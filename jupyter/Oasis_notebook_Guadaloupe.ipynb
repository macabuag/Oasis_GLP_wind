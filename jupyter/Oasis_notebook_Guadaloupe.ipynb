{
 "cells": [
  {
   "cell_type": "markdown",
   "metadata": {},
   "source": [
    "# Oasis model for Guadaloupe"
   ]
  },
  {
   "cell_type": "markdown",
   "metadata": {},
   "source": [
    "#### Author: \n",
    "Silvia Bertelli\n",
    "\n",
    "#### Date \n",
    "27th October 2020\n",
    "    \n",
    "#### Decription:\n",
    "Jupyter notebook for running the Oasis model:\n",
    "- estimates the windfiled using the STORM DATASET;\n",
    "- adopted the GAR exposures files ad convert them into the OED format;\n",
    "- convert the GAR vulnerability functions into the oasis format;"
   ]
  },
  {
   "cell_type": "markdown",
   "metadata": {},
   "source": [
    "## 1 Case study"
   ]
  },
  {
   "cell_type": "markdown",
   "metadata": {},
   "source": [
    "This jupyter notebook build and run an oasis model for Guadaloupe (GLP), which is located (WGS84):"
   ]
  },
  {
   "cell_type": "code",
   "execution_count": 1,
   "metadata": {},
   "outputs": [],
   "source": [
    "latitude = 16.1730949\n",
    "longitude = -61.4054001"
   ]
  },
  {
   "cell_type": "markdown",
   "metadata": {},
   "source": [
    "The projected coordinate system for the area is: "
   ]
  },
  {
   "cell_type": "code",
   "execution_count": 2,
   "metadata": {},
   "outputs": [],
   "source": [
    "projectedsystem = \"EPSG:2970\""
   ]
  },
  {
   "cell_type": "markdown",
   "metadata": {},
   "source": [
    "Please, check here the reference for the adopted coordinate system: https://epsg.io/2970 "
   ]
  },
  {
   "cell_type": "markdown",
   "metadata": {},
   "source": [
    "Please, specify a buffer radius [m] of the extent of the administrative bundaries in order to define the assessed area"
   ]
  },
  {
   "cell_type": "code",
   "execution_count": 3,
   "metadata": {},
   "outputs": [],
   "source": [
    "radiusbuffer = 10000"
   ]
  },
  {
   "cell_type": "markdown",
   "metadata": {},
   "source": [
    "Let's define the resolution of a grid through the following width and lenght values [m]; for this model, the grid is a simple uniform grid in squares."
   ]
  },
  {
   "cell_type": "code",
   "execution_count": 4,
   "metadata": {},
   "outputs": [],
   "source": [
    "res_width = 10000\n",
    "res_height = 10000"
   ]
  },
  {
   "cell_type": "markdown",
   "metadata": {},
   "source": [
    "Please, select a distance [km] (estimated from the centroid of the country) and wind category to select events from the STORM dataset:"
   ]
  },
  {
   "cell_type": "code",
   "execution_count": 7,
   "metadata": {},
   "outputs": [],
   "source": [
    "distance_wind = 25\n",
    "cat_wind = 4"
   ]
  },
  {
   "cell_type": "markdown",
   "metadata": {},
   "source": [
    "## 2 Python code set up"
   ]
  },
  {
   "cell_type": "code",
   "execution_count": 8,
   "metadata": {},
   "outputs": [],
   "source": [
    "%config IPCompleter.greedy=True\n"
   ]
  },
  {
   "cell_type": "markdown",
   "metadata": {},
   "source": [
    " ### 2.1 Libraries"
   ]
  },
  {
   "cell_type": "code",
   "execution_count": 11,
   "metadata": {},
   "outputs": [],
   "source": [
    "import os\n",
    "import sys\n",
    "from pathlib import Path\n",
    "import glob\n",
    "import numpy as np\n",
    "import pandas as pd\n",
    "import matplotlib as mpl\n",
    "import matplotlib.pyplot as plt\n",
    "import geopandas as gpd\n",
    "import math\n",
    "import json\n",
    "import seaborn as sns\n",
    "import folium\n",
    "from shapely.geometry import Polygon, MultiPoint, Point, box\n",
    "from descartes import PolygonPatch\n",
    "from mpl_toolkits.axes_grid1 import AxesGrid\n",
    "from matplotlib.offsetbox import AnchoredText"
   ]
  },
  {
   "cell_type": "markdown",
   "metadata": {},
   "source": [
    "Let's call the python functions for the windstorm calculations and to convert files to the Oasis input format"
   ]
  },
  {
   "cell_type": "code",
   "execution_count": 12,
   "metadata": {},
   "outputs": [],
   "source": [
    "import oasismodel_functions as omf"
   ]
  },
  {
   "cell_type": "markdown",
   "metadata": {},
   "source": [
    " ### 2.2 References"
   ]
  },
  {
   "cell_type": "markdown",
   "metadata": {},
   "source": [
    "Let's check which is the current working directory:"
   ]
  },
  {
   "cell_type": "code",
   "execution_count": 13,
   "metadata": {},
   "outputs": [
    {
     "name": "stdout",
     "output_type": "stream",
     "text": [
      "/home/macab/OasisEvaluation/TestOasisEvaluation_GLP/Oasis_GLP/jupyter\n"
     ]
    }
   ],
   "source": [
    "print(os.getcwd()) #this is my current working directory"
   ]
  },
  {
   "cell_type": "markdown",
   "metadata": {},
   "source": [
    "Set this folder as the current working directory. You may want to comment (#) the following block if the two folders corresponds already:"
   ]
  },
  {
   "cell_type": "code",
   "execution_count": 14,
   "metadata": {},
   "outputs": [],
   "source": [
    "#PACKAGE_DIR = os.path.abspath(os.path.join(os.path.dirname('__file__'), '..'))\n",
    "#print(\"Current working directory is:\" + PACKAGE_DIR)\n",
    "#sys.path.append(PACKAGE_DIR)\n",
    "#FILE_DIR = os.path.dirname('__file__')\n",
    "#FILE_DATA_DIR = os.path.join(TEST_DIR, 'inputs/')"
   ]
  },
  {
   "cell_type": "markdown",
   "metadata": {},
   "source": [
    "### 2.3 Input data folder"
   ]
  },
  {
   "cell_type": "code",
   "execution_count": 15,
   "metadata": {},
   "outputs": [],
   "source": [
    "admin = '../model_data/admin/gadm36_GLP_0.shp'\n",
    "gar = '../model_data/gar/lac_glp.shp'\n",
    "intensity_dic = '../model_data/PiWind/intensity_bin_dict.csv'\n",
    "damage_dic = '../model_data/PiWind/damage_bin_dict.csv'\n",
    "fb_df_vf = '../model_data/vulnerability/GLP_Vulnerability_uniquevaluestest.csv' # vulnerability database \n",
    "fp_gar_dat = '../model_data/vulnerability/VulWdLAC.dat'"
   ]
  },
  {
   "cell_type": "markdown",
   "metadata": {},
   "source": [
    "### 2.4 Output data folder"
   ]
  },
  {
   "cell_type": "markdown",
   "metadata": {},
   "source": [
    "The script produces the following shapefiles:"
   ]
  },
  {
   "cell_type": "code",
   "execution_count": 16,
   "metadata": {},
   "outputs": [],
   "source": [
    "fp_grid = '../tests/outputs/shp/grid.shp'\n",
    "fp_wind = '../tests/outputs/shp/wind_dataset.shp'"
   ]
  },
  {
   "cell_type": "markdown",
   "metadata": {},
   "source": [
    "and the following csv files:"
   ]
  },
  {
   "cell_type": "code",
   "execution_count": 17,
   "metadata": {},
   "outputs": [],
   "source": [
    "fp_areaperil = '../keys_data/PiWind/areaperil_dict.csv'\n",
    "fp_events = '../model_data/PiWind/events_p.csv'\n",
    "fp_occurrence ='../model_data/PiWind/occurrence_lt.csv'\n",
    "fp_footprint = '../model_data/PiWind/footprint.csv'\n",
    "fp_vf_dic = '../keys_data/PiWind/vulnerability_dict.csv'\n",
    "fp_vulnerability = '../model_data/PiWind/vulnerability.csv'\n",
    "fp_exp2 = '../tests/inputs/SourceLocOED.csv'\n",
    "\n",
    "fp_storm_csv = '../model_data/storm/STORM_DATA_IBTRACS_NA.csv'\n",
    "\n",
    "path_vf = 'outputs/vulnerability_functions/{}.csv' #chech this\n",
    "fp_vf_by_name = '../model_data/vulnerability/vf_by_name/{}.csv'\n",
    "path_vf_out = '../tests/outputs/vulnerability/'"
   ]
  },
  {
   "cell_type": "markdown",
   "metadata": {},
   "source": [
    "## 3 Assessed area"
   ]
  },
  {
   "cell_type": "markdown",
   "metadata": {},
   "source": [
    "Load the administrative boundaries from the GADM shapefile:"
   ]
  },
  {
   "cell_type": "code",
   "execution_count": 18,
   "metadata": {},
   "outputs": [
    {
     "data": {
      "image/png": "[encoded data removed]",
      "text/plain": [
       "<Figure size 432x288 with 1 Axes>"
      ]
     },
     "metadata": {
      "needs_background": "light"
     },
     "output_type": "display_data"
    }
   ],
   "source": [
    "gdf_admin = omf.get_admin(admin, projected_crs = projectedsystem)"
   ]
  },
  {
   "cell_type": "markdown",
   "metadata": {},
   "source": [
    "Buffer the administrative bundaries in order to define a larger area to be assessed:"
   ]
  },
  {
   "cell_type": "code",
   "execution_count": 19,
   "metadata": {},
   "outputs": [],
   "source": [
    "gdf_admin_buffer = omf.buffer_grid(gdf_admin, radius = radiusbuffer)"
   ]
  },
  {
   "cell_type": "markdown",
   "metadata": {},
   "source": [
    "and draw a grid over the assessed area:"
   ]
  },
  {
   "cell_type": "code",
   "execution_count": 20,
   "metadata": {},
   "outputs": [
    {
     "name": "stdout",
     "output_type": "stream",
     "text": [
      " A shapefile of the grid has been saved into ../tests/outputs/shp/grid.shp\n"
     ]
    }
   ],
   "source": [
    "gdf_grid = omf.get_grid(gdf_admin_buffer, height=res_height, width=res_width, projected_crs = projectedsystem, fp_grid = fp_grid)\n",
    "print(\" A shapefile of the grid has been saved into \" + str(fp_grid))"
   ]
  },
  {
   "cell_type": "markdown",
   "metadata": {},
   "source": [
    "Now, let's determine the centroids and the vertices of this grid:"
   ]
  },
  {
   "cell_type": "code",
   "execution_count": 21,
   "metadata": {},
   "outputs": [],
   "source": [
    "gdf_centroids = omf.get_grid_centroid(gdf_grid, projected_crs = projectedsystem)\n",
    "gdf_vertices = omf.get_grid_vertices(gdf_grid,projected_crs = projectedsystem)"
   ]
  },
  {
   "cell_type": "markdown",
   "metadata": {},
   "source": [
    "Convert the grid into the oasis format and save it as csv file (TODO: convert the coverage into a list at the top of the notebook and loop through them)"
   ]
  },
  {
   "cell_type": "code",
   "execution_count": 22,
   "metadata": {},
   "outputs": [
    {
     "name": "stdout",
     "output_type": "stream",
     "text": [
      " A csv of the area_peril_dictionary has been saved into ../keys_data/PiWind/areaperil_dict.csv\n"
     ]
    }
   ],
   "source": [
    "area_peril_df1 = omf.convert_to_oasis_areaperil(gdf_vertices, peril ='WTC', coverage = 1)\n",
    "area_peril_df2 = omf.convert_to_oasis_areaperil(gdf_vertices, peril ='WTC', coverage = 3)\n",
    "frames_areaperil = [area_peril_df1, area_peril_df2] #add here all the areaperils dataframes (we have different df as we have different coverages and perils)\n",
    "area_peril_dictionary = omf.concatenate_df_areaperil(frames_areaperil, fp_areaperil)\n",
    "print(\" A csv of the area_peril_dictionary has been saved into \" + str(fp_areaperil))"
   ]
  },
  {
   "cell_type": "markdown",
   "metadata": {},
   "source": [
    "Lets have a look at the model grid data contained in the Area Peril dictionary file. \n",
    "Note that the dictionary is only meta-data, and not required for model execution."
   ]
  },
  {
   "cell_type": "code",
   "execution_count": 23,
   "metadata": {},
   "outputs": [
    {
     "data": {
      "text/html": [
       "<div>\n",
       "<style scoped>\n",
       "    .dataframe tbody tr th:only-of-type {\n",
       "        vertical-align: middle;\n",
       "    }\n",
       "\n",
       "    .dataframe tbody tr th {\n",
       "        vertical-align: top;\n",
       "    }\n",
       "\n",
       "    .dataframe thead th {\n",
       "        text-align: right;\n",
       "    }\n",
       "</style>\n",
       "<table border=\"1\" class=\"dataframe\">\n",
       "  <thead>\n",
       "    <tr style=\"text-align: right;\">\n",
       "      <th></th>\n",
       "      <th>PERIL_ID</th>\n",
       "      <th>COVERAGE_TYPE</th>\n",
       "      <th>LON1</th>\n",
       "      <th>LAT1</th>\n",
       "      <th>LON2</th>\n",
       "      <th>LAT2</th>\n",
       "      <th>LON3</th>\n",
       "      <th>LAT3</th>\n",
       "      <th>LON4</th>\n",
       "      <th>LAT4</th>\n",
       "      <th>AREA_PERIL_ID</th>\n",
       "    </tr>\n",
       "  </thead>\n",
       "  <tbody>\n",
       "    <tr>\n",
       "      <th>0</th>\n",
       "      <td>WTC</td>\n",
       "      <td>1</td>\n",
       "      <td>-61.901838</td>\n",
       "      <td>16.608005</td>\n",
       "      <td>-61.808102</td>\n",
       "      <td>16.607489</td>\n",
       "      <td>-61.808657</td>\n",
       "      <td>16.517109</td>\n",
       "      <td>-61.902349</td>\n",
       "      <td>16.517622</td>\n",
       "      <td>1</td>\n",
       "    </tr>\n",
       "    <tr>\n",
       "      <th>1</th>\n",
       "      <td>WTC</td>\n",
       "      <td>1</td>\n",
       "      <td>-61.902349</td>\n",
       "      <td>16.517622</td>\n",
       "      <td>-61.808657</td>\n",
       "      <td>16.517109</td>\n",
       "      <td>-61.809209</td>\n",
       "      <td>16.426728</td>\n",
       "      <td>-61.902858</td>\n",
       "      <td>16.427238</td>\n",
       "      <td>2</td>\n",
       "    </tr>\n",
       "    <tr>\n",
       "      <th>2</th>\n",
       "      <td>WTC</td>\n",
       "      <td>1</td>\n",
       "      <td>-61.902858</td>\n",
       "      <td>16.427238</td>\n",
       "      <td>-61.809209</td>\n",
       "      <td>16.426728</td>\n",
       "      <td>-61.809758</td>\n",
       "      <td>16.336346</td>\n",
       "      <td>-61.903363</td>\n",
       "      <td>16.336853</td>\n",
       "      <td>3</td>\n",
       "    </tr>\n",
       "    <tr>\n",
       "      <th>3</th>\n",
       "      <td>WTC</td>\n",
       "      <td>1</td>\n",
       "      <td>-61.903363</td>\n",
       "      <td>16.336853</td>\n",
       "      <td>-61.809758</td>\n",
       "      <td>16.336346</td>\n",
       "      <td>-61.810303</td>\n",
       "      <td>16.245963</td>\n",
       "      <td>-61.903865</td>\n",
       "      <td>16.246467</td>\n",
       "      <td>4</td>\n",
       "    </tr>\n",
       "    <tr>\n",
       "      <th>4</th>\n",
       "      <td>WTC</td>\n",
       "      <td>1</td>\n",
       "      <td>-61.903865</td>\n",
       "      <td>16.246467</td>\n",
       "      <td>-61.810303</td>\n",
       "      <td>16.245963</td>\n",
       "      <td>-61.810844</td>\n",
       "      <td>16.155580</td>\n",
       "      <td>-61.904364</td>\n",
       "      <td>16.156081</td>\n",
       "      <td>5</td>\n",
       "    </tr>\n",
       "  </tbody>\n",
       "</table>\n",
       "</div>"
      ],
      "text/plain": [
       "  PERIL_ID  COVERAGE_TYPE       LON1       LAT1       LON2       LAT2  \\\n",
       "0      WTC              1 -61.901838  16.608005 -61.808102  16.607489   \n",
       "1      WTC              1 -61.902349  16.517622 -61.808657  16.517109   \n",
       "2      WTC              1 -61.902858  16.427238 -61.809209  16.426728   \n",
       "3      WTC              1 -61.903363  16.336853 -61.809758  16.336346   \n",
       "4      WTC              1 -61.903865  16.246467 -61.810303  16.245963   \n",
       "\n",
       "        LON3       LAT3       LON4       LAT4 AREA_PERIL_ID  \n",
       "0 -61.808657  16.517109 -61.902349  16.517622             1  \n",
       "1 -61.809209  16.426728 -61.902858  16.427238             2  \n",
       "2 -61.809758  16.336346 -61.903363  16.336853             3  \n",
       "3 -61.810303  16.245963 -61.903865  16.246467             4  \n",
       "4 -61.810844  16.155580 -61.904364  16.156081             5  "
      ]
     },
     "execution_count": 23,
     "metadata": {},
     "output_type": "execute_result"
    }
   ],
   "source": [
    "area_peril_dictionary.head()"
   ]
  },
  {
   "cell_type": "markdown",
   "metadata": {},
   "source": [
    "Lets plot the area peril cells on a map"
   ]
  },
  {
   "cell_type": "code",
   "execution_count": 24,
   "metadata": {},
   "outputs": [],
   "source": [
    "m = omf.areapeeril_map(area_peril_dictionary,latitude, longitude)"
   ]
  },
  {
   "cell_type": "code",
   "execution_count": 25,
   "metadata": {},
   "outputs": [
    {
     "data": {
      "text/html": [
       "<iframe width=\"100%\" height=350 src=\"extent_map.html\"></iframe>\n"
      ],
      "text/plain": [
       "<IPython.core.display.HTML object>"
      ]
     },
     "metadata": {},
     "output_type": "display_data"
    }
   ],
   "source": [
    "%%HTML\n",
    "<iframe width=\"100%\" height=350 src=\"extent_map.html\"></iframe>"
   ]
  },
  {
   "cell_type": "markdown",
   "metadata": {},
   "source": [
    "## 4 Windfield estimation"
   ]
  },
  {
   "cell_type": "markdown",
   "metadata": {},
   "source": [
    "### 4.1 Selection of events from the STORM dataset"
   ]
  },
  {
   "cell_type": "markdown",
   "metadata": {},
   "source": [
    "Let's load the STORM dataset and select events based on the distance and category of the event:"
   ]
  },
  {
   "cell_type": "code",
   "execution_count": 26,
   "metadata": {},
   "outputs": [
    {
     "name": "stdout",
     "output_type": "stream",
     "text": [
      "<class 'geopandas.geodataframe.GeoDataFrame'>\n",
      "Int64Index: 2733 entries, 13550 to 337481\n",
      "Data columns (total 12 columns):\n",
      " #   Column    Non-Null Count  Dtype   \n",
      "---  ------    --------------  -----   \n",
      " 0   ID_event  2733 non-null   object  \n",
      " 1   Year      2733 non-null   int64   \n",
      " 2   Month     2733 non-null   int64   \n",
      " 3   TimeStep  2733 non-null   float64 \n",
      " 4   Lat       2733 non-null   float64 \n",
      " 5   Lon       2733 non-null   float64 \n",
      " 6   Vmax_ms   2733 non-null   float64 \n",
      " 7   RMW_km    2733 non-null   float64 \n",
      " 8   category  2733 non-null   int64   \n",
      " 9   r_km      2733 non-null   float64 \n",
      " 10  source    2733 non-null   object  \n",
      " 11  geometry  2733 non-null   geometry\n",
      "dtypes: float64(6), geometry(1), int64(3), object(2)\n",
      "memory usage: 277.6+ KB\n",
      " A csv of the selected windtrack has been saved into ../model_data/storm/STORM_DATA_IBTRACS_NA.csv\n"
     ]
    }
   ],
   "source": [
    "df_storm = omf.load_multiple_STORM(gdf_admin, distance_wind, cat_wind, fp_storm_csv) \n",
    "df_storm.info()\n",
    "print(\" A csv of the selected windtrack has been saved into \" + str(fp_storm_csv))"
   ]
  },
  {
   "cell_type": "markdown",
   "metadata": {},
   "source": [
    "Estimate the B-shape parameter:"
   ]
  },
  {
   "cell_type": "code",
   "execution_count": 27,
   "metadata": {},
   "outputs": [
    {
     "name": "stdout",
     "output_type": "stream",
     "text": [
      "<class 'geopandas.geodataframe.GeoDataFrame'>\n",
      "Int64Index: 2733 entries, 13550 to 337481\n",
      "Data columns (total 12 columns):\n",
      " #   Column    Non-Null Count  Dtype   \n",
      "---  ------    --------------  -----   \n",
      " 0   ID_event  2733 non-null   object  \n",
      " 1   Year      2733 non-null   int64   \n",
      " 2   Month     2733 non-null   int64   \n",
      " 3   TimeStep  2733 non-null   float64 \n",
      " 4   Lat       2733 non-null   float64 \n",
      " 5   Lon       2733 non-null   float64 \n",
      " 6   Vmax_ms   2733 non-null   float64 \n",
      " 7   RMW_km    2733 non-null   float64 \n",
      " 8   category  2733 non-null   int64   \n",
      " 9   source    2733 non-null   object  \n",
      " 10  geometry  2733 non-null   geometry\n",
      " 11  B         2733 non-null   float64 \n",
      "dtypes: float64(6), geometry(1), int64(3), object(2)\n",
      "memory usage: 277.6+ KB\n"
     ]
    }
   ],
   "source": [
    "df_windtrack = omf.STORM_analysis(df_storm)\n",
    "df_windtrack.info()"
   ]
  },
  {
   "cell_type": "markdown",
   "metadata": {},
   "source": [
    "### 4.2 Events"
   ]
  },
  {
   "cell_type": "markdown",
   "metadata": {},
   "source": [
    "Let's check the number of events that have been selected:"
   ]
  },
  {
   "cell_type": "code",
   "execution_count": 28,
   "metadata": {},
   "outputs": [],
   "source": [
    "list_events = omf.unique_events(df_windtrack)"
   ]
  },
  {
   "cell_type": "markdown",
   "metadata": {},
   "source": [
    "and convert them into a shapefile:"
   ]
  },
  {
   "cell_type": "code",
   "execution_count": 29,
   "metadata": {},
   "outputs": [
    {
     "name": "stdout",
     "output_type": "stream",
     "text": [
      " A shapefile of the selected events has been saved into ../tests/outputs/shp/wind_dataset.shp\n"
     ]
    }
   ],
   "source": [
    "df_wind = omf.merge_unique_events_windtrack(list_events, df_windtrack, fp_wind)\n",
    "print(\" A shapefile of the selected events has been saved into \" + str(fp_wind))"
   ]
  },
  {
   "cell_type": "markdown",
   "metadata": {},
   "source": [
    "Then, convert the list of events into the oasis format:"
   ]
  },
  {
   "cell_type": "code",
   "execution_count": 30,
   "metadata": {},
   "outputs": [
    {
     "name": "stdout",
     "output_type": "stream",
     "text": [
      " A csv of events dataframe in the oasis format has been saved into ../model_data/PiWind/events_p.csv\n"
     ]
    }
   ],
   "source": [
    "df_oasis_events = omf.oasis_events(list_events, fp_events)\n",
    "df_oasis_events.head()\n",
    "print(\" A csv of events dataframe in the oasis format has been saved into \" + str(fp_events))"
   ]
  },
  {
   "cell_type": "markdown",
   "metadata": {},
   "source": [
    "### 4.3 Occurence"
   ]
  },
  {
   "cell_type": "markdown",
   "metadata": {},
   "source": [
    "Let's have a look at the data contained in the occurence dataframe:"
   ]
  },
  {
   "cell_type": "code",
   "execution_count": 31,
   "metadata": {},
   "outputs": [
    {
     "name": "stdout",
     "output_type": "stream",
     "text": [
      " A csv of the occurence dataframe in the oasis format has been saved into ../model_data/PiWind/occurrence_lt.csv\n"
     ]
    }
   ],
   "source": [
    "df_oasis_occurence = omf.oasis_occurence(list_events, fp_occurrence)\n",
    "df_oasis_occurence.head()\n",
    "print(\" A csv of the occurence dataframe in the oasis format has been saved into \" + str(fp_occurrence))"
   ]
  },
  {
   "cell_type": "markdown",
   "metadata": {},
   "source": [
    "### 4.4 Intensity"
   ]
  },
  {
   "cell_type": "markdown",
   "metadata": {},
   "source": [
    "Lets have a look at the data contained in the Intensity Bin dictionary file. \n",
    "Note that the dictionary is only meta-data, and not required for model execution."
   ]
  },
  {
   "cell_type": "code",
   "execution_count": 32,
   "metadata": {},
   "outputs": [
    {
     "name": "stdout",
     "output_type": "stream",
     "text": [
      "   bin_index  bin_from  bin_to  interpolation  interval_type\n",
      "0          1      37.5    42.5             40           1202\n",
      "1          2      42.5    47.5             45           1202\n",
      "2          3      47.5    52.5             50           1202\n",
      "3          4      52.5    57.5             55           1202\n",
      "4          5      57.5    62.5             60           1202\n"
     ]
    }
   ],
   "source": [
    "intensity_bin_dictionary = omf.load_intensity(intensity_dic) #TODO: create the dataframe base on the windtrack dataframe\n",
    "print(intensity_bin_dictionary.head())"
   ]
  },
  {
   "cell_type": "markdown",
   "metadata": {},
   "source": [
    "### 4.5 Footprints"
   ]
  },
  {
   "cell_type": "code",
   "execution_count": 33,
   "metadata": {},
   "outputs": [],
   "source": [
    "df_merge = omf.merge_wind_w_grid(df_wind, gdf_centroids)"
   ]
  },
  {
   "cell_type": "code",
   "execution_count": 34,
   "metadata": {},
   "outputs": [],
   "source": [
    "df_groupby = omf.groupby_grid(df_merge)"
   ]
  },
  {
   "cell_type": "code",
   "execution_count": 35,
   "metadata": {},
   "outputs": [],
   "source": [
    "df_lookup = omf.intensity_lookup(intensity_bin_dictionary, df_groupby)"
   ]
  },
  {
   "cell_type": "markdown",
   "metadata": {},
   "source": [
    "Lets have a look at the data contained in the footprint file. "
   ]
  },
  {
   "cell_type": "code",
   "execution_count": 36,
   "metadata": {},
   "outputs": [
    {
     "name": "stdout",
     "output_type": "stream",
     "text": [
      " A csv of the occurence dataframe in the oasis format has been saved into ../model_data/PiWind/footprint.csv\n"
     ]
    }
   ],
   "source": [
    "footprints = omf.get_footprint(df_lookup, fp_footprint)\n",
    "footprints.head()\n",
    "print(\" A csv of the occurence dataframe in the oasis format has been saved into \" + str(fp_footprint))"
   ]
  },
  {
   "cell_type": "markdown",
   "metadata": {},
   "source": [
    "Lets visualize the first 5 event footprints."
   ]
  },
  {
   "cell_type": "code",
   "execution_count": 37,
   "metadata": {
    "scrolled": true
   },
   "outputs": [
    {
     "name": "stderr",
     "output_type": "stream",
     "text": [
      "<ipython-input-37-b848c9212b59>:46: MatplotlibDeprecationWarning: Since 3.2, mpl_toolkits's own colorbar implementation is deprecated; it will be removed two minor releases later.  Set the 'mpl_toolkits.legacy_colorbar' rcParam to False to use Matplotlib's default colorbar implementation and suppress this deprecation warning.\n",
      "  grid[0].cax.colorbar(im)\n",
      "/home/macab/oasis_evaluation/lib/python3.8/site-packages/mpl_toolkits/axes_grid1/axes_grid.py:46: MatplotlibDeprecationWarning: \n",
      "The mpl_toolkits.axes_grid1.colorbar module was deprecated in Matplotlib 3.2 and will be removed two minor releases later. Use matplotlib.colorbar instead.\n",
      "  from .colorbar import Colorbar\n"
     ]
    },
    {
     "data": {
      "image/png": "[encoded data removed]",
      "text/plain": [
       "<Figure size 1440x720 with 10 Axes>"
      ]
     },
     "metadata": {
      "needs_background": "light"
     },
     "output_type": "display_data"
    }
   ],
   "source": [
    "area_peril_dictionary['gridcell'] = area_peril_dictionary['AREA_PERIL_ID'].apply(\n",
    "    lambda ap: str(int((ap-1)/10)+1)+\"-\"+str(ap-(int((ap-1)/10))*10))\n",
    "\n",
    "footprints_with_hazard = footprints.merge(\n",
    "    intensity_bin_dictionary, how='inner', \n",
    "    left_on='intensity_bin_id', right_on='bin_index').merge(\n",
    "    area_peril_dictionary, how='inner', \n",
    "    left_on='areaperil_id', right_on='AREA_PERIL_ID')\n",
    "\n",
    "footprints_with_hazard = footprints_with_hazard[footprints_with_hazard['PERIL_ID']=='WTC']\n",
    "footprints_with_hazard = footprints_with_hazard[footprints_with_hazard['COVERAGE_TYPE']==1]\n",
    "\n",
    "fig = plt.figure(figsize=(20,10))\n",
    "\n",
    "grid = AxesGrid(fig, 111,\n",
    "                nrows_ncols=(1, 5),\n",
    "                axes_pad=0.05,\n",
    "                share_all=True,\n",
    "                label_mode=\"L\",\n",
    "                cbar_location=\"right\",\n",
    "                cbar_mode=\"single\",\n",
    "                )\n",
    "\n",
    "vmin = min(footprints_with_hazard.interpolation)\n",
    "vmax = max(footprints_with_hazard.interpolation)\n",
    "for idx, ax in enumerate(grid):\n",
    "    a = np.zeros([10, 10])\n",
    "    for __, row in footprints_with_hazard[footprints_with_hazard.event_id == idx+1].iterrows():\n",
    "        i, j = row.gridcell.split('-')\n",
    "        a[10-int(i), int(j)-1] = row.interpolation\n",
    "    im = ax.imshow(a, cmap=plt.cm.get_cmap('Blues'), vmin=vmin, vmax=vmax,\n",
    "                   extent=(\n",
    "                       min(area_peril_dictionary.lon), max(area_peril_dictionary.lon), \n",
    "                       min(area_peril_dictionary.lat), max(area_peril_dictionary.lat)))\n",
    "    ax.set_xlabel(\"longitude\")\n",
    "    ax.set_ylabel(\"latitude\")\n",
    "    at = AnchoredText(\n",
    "        \"Event ID = {}\".format(idx + 1),\n",
    "        prop=dict(size=8),\n",
    "        frameon=True,\n",
    "        loc=2,\n",
    "    )\n",
    "    at.patch.set_boxstyle(\"round,pad=0.,rounding_size=0.2\")\n",
    "    ax.add_artist(at)\n",
    "\n",
    "grid[0].cax.colorbar(im)\n",
    "cax = grid.cbar_axes[0]\n",
    "axis = cax.axis[cax.orientation]\n",
    "axis.label.set_text(\"Intensity - Peak gust (mph)\")\n",
    "\n",
    "plt.show()"
   ]
  },
  {
   "cell_type": "markdown",
   "metadata": {},
   "source": [
    "## 5 Vulnerability assessment"
   ]
  },
  {
   "cell_type": "markdown",
   "metadata": {},
   "source": [
    "### 5.1 Damage"
   ]
  },
  {
   "cell_type": "markdown",
   "metadata": {},
   "source": [
    "Lets have a look at the data contained in the Damage Bin dictionary file. \n",
    "Note that the dictionary is required for model execution."
   ]
  },
  {
   "cell_type": "code",
   "execution_count": 38,
   "metadata": {},
   "outputs": [
    {
     "data": {
      "text/html": [
       "<div>\n",
       "<style scoped>\n",
       "    .dataframe tbody tr th:only-of-type {\n",
       "        vertical-align: middle;\n",
       "    }\n",
       "\n",
       "    .dataframe tbody tr th {\n",
       "        vertical-align: top;\n",
       "    }\n",
       "\n",
       "    .dataframe thead th {\n",
       "        text-align: right;\n",
       "    }\n",
       "</style>\n",
       "<table border=\"1\" class=\"dataframe\">\n",
       "  <thead>\n",
       "    <tr style=\"text-align: right;\">\n",
       "      <th></th>\n",
       "      <th>bin_index</th>\n",
       "      <th>bin_from</th>\n",
       "      <th>bin_to</th>\n",
       "      <th>interpolation</th>\n",
       "      <th>interval_type</th>\n",
       "    </tr>\n",
       "  </thead>\n",
       "  <tbody>\n",
       "    <tr>\n",
       "      <th>0</th>\n",
       "      <td>1</td>\n",
       "      <td>0.0</td>\n",
       "      <td>0.0</td>\n",
       "      <td>0.00</td>\n",
       "      <td>1203</td>\n",
       "    </tr>\n",
       "    <tr>\n",
       "      <th>1</th>\n",
       "      <td>2</td>\n",
       "      <td>0.0</td>\n",
       "      <td>0.1</td>\n",
       "      <td>0.05</td>\n",
       "      <td>1200</td>\n",
       "    </tr>\n",
       "    <tr>\n",
       "      <th>2</th>\n",
       "      <td>3</td>\n",
       "      <td>0.1</td>\n",
       "      <td>0.2</td>\n",
       "      <td>0.15</td>\n",
       "      <td>1202</td>\n",
       "    </tr>\n",
       "    <tr>\n",
       "      <th>3</th>\n",
       "      <td>4</td>\n",
       "      <td>0.2</td>\n",
       "      <td>0.3</td>\n",
       "      <td>0.25</td>\n",
       "      <td>1202</td>\n",
       "    </tr>\n",
       "    <tr>\n",
       "      <th>4</th>\n",
       "      <td>5</td>\n",
       "      <td>0.3</td>\n",
       "      <td>0.4</td>\n",
       "      <td>0.35</td>\n",
       "      <td>1202</td>\n",
       "    </tr>\n",
       "  </tbody>\n",
       "</table>\n",
       "</div>"
      ],
      "text/plain": [
       "   bin_index  bin_from  bin_to  interpolation  interval_type\n",
       "0          1       0.0     0.0           0.00           1203\n",
       "1          2       0.0     0.1           0.05           1200\n",
       "2          3       0.1     0.2           0.15           1202\n",
       "3          4       0.2     0.3           0.25           1202\n",
       "4          5       0.3     0.4           0.35           1202"
      ]
     },
     "execution_count": 38,
     "metadata": {},
     "output_type": "execute_result"
    }
   ],
   "source": [
    "damage_bin_dictionary = omf.load_damage_dic(damage_dic)\n",
    "damage_bin_dictionary.head()"
   ]
  },
  {
   "cell_type": "markdown",
   "metadata": {},
   "source": [
    "### 5.2 Vulnerability Database"
   ]
  },
  {
   "cell_type": "markdown",
   "metadata": {},
   "source": [
    "Load the vulnerability dataframe and save each road separately:"
   ]
  },
  {
   "cell_type": "code",
   "execution_count": 39,
   "metadata": {},
   "outputs": [],
   "source": [
    "df_vf = omf.load_vf(fb_df_vf, fp_vf_by_name)"
   ]
  },
  {
   "cell_type": "markdown",
   "metadata": {},
   "source": [
    "Plot each vulnerability function:"
   ]
  },
  {
   "cell_type": "code",
   "execution_count": 40,
   "metadata": {},
   "outputs": [],
   "source": [
    "df_glp_vf_1 = omf.plot_multi_vf(path_vf_out)"
   ]
  },
  {
   "cell_type": "markdown",
   "metadata": {},
   "source": [
    "### 5.3 Vulnerability dictionary"
   ]
  },
  {
   "cell_type": "markdown",
   "metadata": {},
   "source": [
    "Let's have a look at the gar vulnerability dat file"
   ]
  },
  {
   "cell_type": "code",
   "execution_count": 41,
   "metadata": {},
   "outputs": [
    {
     "data": {
      "text/html": [
       "<div>\n",
       "<style scoped>\n",
       "    .dataframe tbody tr th:only-of-type {\n",
       "        vertical-align: middle;\n",
       "    }\n",
       "\n",
       "    .dataframe tbody tr th {\n",
       "        vertical-align: top;\n",
       "    }\n",
       "\n",
       "    .dataframe thead th {\n",
       "        text-align: right;\n",
       "    }\n",
       "</style>\n",
       "<table border=\"1\" class=\"dataframe\">\n",
       "  <thead>\n",
       "    <tr style=\"text-align: right;\">\n",
       "      <th></th>\n",
       "      <th>GAR_vf</th>\n",
       "      <th>StructuralPeriod</th>\n",
       "      <th>FileName</th>\n",
       "    </tr>\n",
       "  </thead>\n",
       "  <tbody>\n",
       "    <tr>\n",
       "      <th>0</th>\n",
       "      <td>Reg2_Dev22_Hz3_Cpx1_beds_priv_A_nr</td>\n",
       "      <td>1</td>\n",
       "      <td>AD1L_M(km_h).fvu</td>\n",
       "    </tr>\n",
       "    <tr>\n",
       "      <th>1</th>\n",
       "      <td>Reg2_Dev22_Hz3_Cpx1_beds_priv_C_nr</td>\n",
       "      <td>1</td>\n",
       "      <td>C1M_M(km_h).fvu</td>\n",
       "    </tr>\n",
       "    <tr>\n",
       "      <th>2</th>\n",
       "      <td>Reg2_Dev22_Hz3_Cpx1_beds_priv_UFB_nr</td>\n",
       "      <td>1</td>\n",
       "      <td>URML_M(km_h).fvu</td>\n",
       "    </tr>\n",
       "    <tr>\n",
       "      <th>3</th>\n",
       "      <td>Reg2_Dev22_Hz3_Cpx1_beds_priv_W_nr</td>\n",
       "      <td>1</td>\n",
       "      <td>W1_M(km_h).fvu</td>\n",
       "    </tr>\n",
       "    <tr>\n",
       "      <th>4</th>\n",
       "      <td>Reg2_Dev22_Hz3_Cpx1_beds_pub_A_nr</td>\n",
       "      <td>1</td>\n",
       "      <td>AD1L_M(km_h).fvu</td>\n",
       "    </tr>\n",
       "  </tbody>\n",
       "</table>\n",
       "</div>"
      ],
      "text/plain": [
       "                                 GAR_vf  StructuralPeriod          FileName\n",
       "0    Reg2_Dev22_Hz3_Cpx1_beds_priv_A_nr                 1  AD1L_M(km_h).fvu\n",
       "1    Reg2_Dev22_Hz3_Cpx1_beds_priv_C_nr                 1   C1M_M(km_h).fvu\n",
       "2  Reg2_Dev22_Hz3_Cpx1_beds_priv_UFB_nr                 1  URML_M(km_h).fvu\n",
       "3    Reg2_Dev22_Hz3_Cpx1_beds_priv_W_nr                 1    W1_M(km_h).fvu\n",
       "4     Reg2_Dev22_Hz3_Cpx1_beds_pub_A_nr                 1  AD1L_M(km_h).fvu"
      ]
     },
     "execution_count": 41,
     "metadata": {},
     "output_type": "execute_result"
    }
   ],
   "source": [
    "df_gar = omf.read_gar_vf(fp_gar_dat)\n",
    "df_gar.head()"
   ]
  },
  {
   "cell_type": "markdown",
   "metadata": {},
   "source": [
    "Let's create a dictionary file to link the vulnerability database with the gar dat file:"
   ]
  },
  {
   "cell_type": "code",
   "execution_count": 42,
   "metadata": {},
   "outputs": [
    {
     "data": {
      "text/html": [
       "<div>\n",
       "<style scoped>\n",
       "    .dataframe tbody tr th:only-of-type {\n",
       "        vertical-align: middle;\n",
       "    }\n",
       "\n",
       "    .dataframe tbody tr th {\n",
       "        vertical-align: top;\n",
       "    }\n",
       "\n",
       "    .dataframe thead th {\n",
       "        text-align: right;\n",
       "    }\n",
       "</style>\n",
       "<table border=\"1\" class=\"dataframe\">\n",
       "  <thead>\n",
       "    <tr style=\"text-align: right;\">\n",
       "      <th></th>\n",
       "      <th>GAR_vf</th>\n",
       "      <th>StructuralPeriod</th>\n",
       "      <th>FileName</th>\n",
       "      <th>OED Code</th>\n",
       "      <th>ID_set</th>\n",
       "    </tr>\n",
       "  </thead>\n",
       "  <tbody>\n",
       "    <tr>\n",
       "      <th>0</th>\n",
       "      <td>Reg2_Dev1_Hz3_Cpx1_beds_priv_C_nr</td>\n",
       "      <td>1</td>\n",
       "      <td>C1M_L(km_h).fvu</td>\n",
       "      <td>1232</td>\n",
       "      <td>31</td>\n",
       "    </tr>\n",
       "    <tr>\n",
       "      <th>1</th>\n",
       "      <td>Reg2_Dev1_Hz3_Cpx1_beds_pub_C_nr</td>\n",
       "      <td>1</td>\n",
       "      <td>C1M_L(km_h).fvu</td>\n",
       "      <td>1232</td>\n",
       "      <td>31</td>\n",
       "    </tr>\n",
       "    <tr>\n",
       "      <th>2</th>\n",
       "      <td>Reg2_Dev1_Hz3_Cpx1_edu_priv_C_nr</td>\n",
       "      <td>1</td>\n",
       "      <td>C1M_L(km_h).fvu</td>\n",
       "      <td>1232</td>\n",
       "      <td>31</td>\n",
       "    </tr>\n",
       "    <tr>\n",
       "      <th>3</th>\n",
       "      <td>Reg2_Dev1_Hz3_Cpx1_edu_pub_C_nr</td>\n",
       "      <td>1</td>\n",
       "      <td>C1M_L(km_h).fvu</td>\n",
       "      <td>1232</td>\n",
       "      <td>31</td>\n",
       "    </tr>\n",
       "    <tr>\n",
       "      <th>4</th>\n",
       "      <td>Reg2_Dev1_Hz3_Cpx1_emp_gov_C_nr</td>\n",
       "      <td>1</td>\n",
       "      <td>C1M_L(km_h).fvu</td>\n",
       "      <td>1232</td>\n",
       "      <td>31</td>\n",
       "    </tr>\n",
       "  </tbody>\n",
       "</table>\n",
       "</div>"
      ],
      "text/plain": [
       "                              GAR_vf  StructuralPeriod         FileName  \\\n",
       "0  Reg2_Dev1_Hz3_Cpx1_beds_priv_C_nr                 1  C1M_L(km_h).fvu   \n",
       "1   Reg2_Dev1_Hz3_Cpx1_beds_pub_C_nr                 1  C1M_L(km_h).fvu   \n",
       "2   Reg2_Dev1_Hz3_Cpx1_edu_priv_C_nr                 1  C1M_L(km_h).fvu   \n",
       "3    Reg2_Dev1_Hz3_Cpx1_edu_pub_C_nr                 1  C1M_L(km_h).fvu   \n",
       "4    Reg2_Dev1_Hz3_Cpx1_emp_gov_C_nr                 1  C1M_L(km_h).fvu   \n",
       "\n",
       "   OED Code  ID_set  \n",
       "0      1232      31  \n",
       "1      1232      31  \n",
       "2      1232      31  \n",
       "3      1232      31  \n",
       "4      1232      31  "
      ]
     },
     "execution_count": 42,
     "metadata": {},
     "output_type": "execute_result"
    }
   ],
   "source": [
    "gar_dictionary = omf.gar_dict(df_gar, df_vf)\n",
    "gar_dictionary.head()"
   ]
  },
  {
   "cell_type": "markdown",
   "metadata": {},
   "source": [
    "Finally, define the vulnerability_dictionary file with the format required by the oasis model:"
   ]
  },
  {
   "cell_type": "code",
   "execution_count": 43,
   "metadata": {},
   "outputs": [
    {
     "name": "stdout",
     "output_type": "stream",
     "text": [
      " A csv of the vulnerability_dictionary dataframe in the oasis format has been saved into ../keys_data/PiWind/vulnerability_dict.csv\n"
     ]
    }
   ],
   "source": [
    "vulnerability_dictionary = omf.vulnerability_dic(df_vf, gar_dictionary,fp_vf_dic)\n",
    "vulnerability_dictionary.head()\n",
    "print(\" A csv of the vulnerability_dictionary dataframe in the oasis format has been saved into \" + str(fp_vf_dic))"
   ]
  },
  {
   "cell_type": "markdown",
   "metadata": {},
   "source": [
    "### 5.4 Vulnerability file"
   ]
  },
  {
   "cell_type": "markdown",
   "metadata": {},
   "source": [
    "Assess the selected vulnerability functions based on the intensity_dictionary and damage_dictionary:"
   ]
  },
  {
   "cell_type": "code",
   "execution_count": 44,
   "metadata": {},
   "outputs": [],
   "source": [
    "df_lookup_2 = omf.damage_intensity_lookup(df_glp_vf_1, damage_bin_dictionary, intensity_bin_dictionary)"
   ]
  },
  {
   "cell_type": "markdown",
   "metadata": {},
   "source": [
    "Let's format the results into the oasis format. Lets have a look at the data contained in the obrained Vulnerability file. "
   ]
  },
  {
   "cell_type": "code",
   "execution_count": 45,
   "metadata": {},
   "outputs": [
    {
     "name": "stdout",
     "output_type": "stream",
     "text": [
      " A csv of the vulnerability dataframe in the oasis format has been saved into ../model_data/PiWind/vulnerability.csv\n"
     ]
    },
    {
     "data": {
      "text/html": [
       "<div>\n",
       "<style scoped>\n",
       "    .dataframe tbody tr th:only-of-type {\n",
       "        vertical-align: middle;\n",
       "    }\n",
       "\n",
       "    .dataframe tbody tr th {\n",
       "        vertical-align: top;\n",
       "    }\n",
       "\n",
       "    .dataframe thead th {\n",
       "        text-align: right;\n",
       "    }\n",
       "</style>\n",
       "<table border=\"1\" class=\"dataframe\">\n",
       "  <thead>\n",
       "    <tr style=\"text-align: right;\">\n",
       "      <th></th>\n",
       "      <th>vulnerability_id</th>\n",
       "      <th>intensity_bin_id</th>\n",
       "      <th>damage_bin_id</th>\n",
       "      <th>probability</th>\n",
       "    </tr>\n",
       "  </thead>\n",
       "  <tbody>\n",
       "    <tr>\n",
       "      <th>1786</th>\n",
       "      <td>31</td>\n",
       "      <td>5</td>\n",
       "      <td>2</td>\n",
       "      <td>1</td>\n",
       "    </tr>\n",
       "    <tr>\n",
       "      <th>1853</th>\n",
       "      <td>31</td>\n",
       "      <td>6</td>\n",
       "      <td>2</td>\n",
       "      <td>1</td>\n",
       "    </tr>\n",
       "    <tr>\n",
       "      <th>1920</th>\n",
       "      <td>31</td>\n",
       "      <td>7</td>\n",
       "      <td>2</td>\n",
       "      <td>1</td>\n",
       "    </tr>\n",
       "    <tr>\n",
       "      <th>1987</th>\n",
       "      <td>31</td>\n",
       "      <td>8</td>\n",
       "      <td>2</td>\n",
       "      <td>1</td>\n",
       "    </tr>\n",
       "    <tr>\n",
       "      <th>2054</th>\n",
       "      <td>31</td>\n",
       "      <td>9</td>\n",
       "      <td>2</td>\n",
       "      <td>1</td>\n",
       "    </tr>\n",
       "  </tbody>\n",
       "</table>\n",
       "</div>"
      ],
      "text/plain": [
       "      vulnerability_id  intensity_bin_id  damage_bin_id  probability\n",
       "1786                31                 5              2            1\n",
       "1853                31                 6              2            1\n",
       "1920                31                 7              2            1\n",
       "1987                31                 8              2            1\n",
       "2054                31                 9              2            1"
      ]
     },
     "execution_count": 45,
     "metadata": {},
     "output_type": "execute_result"
    }
   ],
   "source": [
    "vulnerabilities = omf.get_vulnerability(df_lookup_2, fp_vulnerability)\n",
    "print(\" A csv of the vulnerability dataframe in the oasis format has been saved into \" + str(fp_vulnerability))\n",
    "vulnerabilities.head()"
   ]
  },
  {
   "cell_type": "markdown",
   "metadata": {},
   "source": [
    "The model has seperate vulnerability curves for Residential, Commerical and Industrial occupancies. \n",
    "Lets visualise these curves."
   ]
  },
  {
   "cell_type": "code",
   "execution_count": 46,
   "metadata": {},
   "outputs": [
    {
     "name": "stderr",
     "output_type": "stream",
     "text": [
      "<ipython-input-46-ca8b331eedfc>:42: MatplotlibDeprecationWarning: Since 3.2, mpl_toolkits's own colorbar implementation is deprecated; it will be removed two minor releases later.  Set the 'mpl_toolkits.legacy_colorbar' rcParam to False to use Matplotlib's default colorbar implementation and suppress this deprecation warning.\n",
      "  grid[0].cax.colorbar(im)\n"
     ]
    },
    {
     "data": {
      "image/png": "[encoded data removed]",
      "text/plain": [
       "<Figure size 720x1440 with 6 Axes>"
      ]
     },
     "metadata": {
      "needs_background": "light"
     },
     "output_type": "display_data"
    }
   ],
   "source": [
    "vulnerabilities_with_hazard_and_damage = vulnerabilities.merge(\n",
    "    intensity_bin_dictionary, how='inner', \n",
    "    left_on='intensity_bin_id', right_on='bin_index').merge(\n",
    "    damage_bin_dictionary, how='inner',\n",
    "    suffixes=[\"_i\", \"_d\"], left_on='damage_bin_id', right_on='bin_index')\n",
    "\n",
    "fig = plt.figure(figsize=(10,20))\n",
    "\n",
    "grid = AxesGrid(fig, 111,\n",
    "                nrows_ncols=(1, 3),\n",
    "                axes_pad=0.05,\n",
    "                share_all=True,\n",
    "                label_mode=\"L\",\n",
    "                cbar_location=\"right\",\n",
    "                cbar_mode=\"single\",\n",
    "                )\n",
    "\n",
    "vmin = 0.0\n",
    "vmax = max(vulnerabilities_with_hazard_and_damage.probability)\n",
    "labels = [\"Residential\", \"Commercial\", \"Industrial\"]\n",
    "for idx, ax in enumerate(grid):\n",
    "    a = np.zeros((29, 12))\n",
    "    for index, row in vulnerabilities_with_hazard_and_damage[\n",
    "        vulnerabilities_with_hazard_and_damage.vulnerability_id == idx + 1].iterrows():\n",
    "        a[int(row.bin_index_i-1), 11-int(row.bin_index_d-1)] = row.probability\n",
    "    \n",
    "    im = ax.imshow(a, cmap=plt.cm.get_cmap('Blues'), vmin=vmin, vmax=vmax,\n",
    "                   extent=(\n",
    "                       min(intensity_bin_dictionary.interpolation), max(intensity_bin_dictionary.interpolation), \n",
    "                       min(damage_bin_dictionary.interpolation) * 100, max(damage_bin_dictionary.interpolation) * 100))\n",
    "\n",
    "    at = AnchoredText(labels[idx],\n",
    "                  prop=dict(size=8), frameon=True,\n",
    "                  loc=2,\n",
    "                  )\n",
    "    at.patch.set_boxstyle(\"round,pad=0.,rounding_size=0.2\")\n",
    "    ax.add_artist(at)\n",
    "    \n",
    "    ax.set_xlabel(\"Intensity - Peak gust (mph)\")\n",
    "    ax.set_ylabel(\"Damage\")\n",
    "\n",
    "grid[0].cax.colorbar(im)\n",
    "cax = grid.cbar_axes[0]\n",
    "axis = cax.axis[cax.orientation]\n",
    "axis.label.set_text(\"Probability of damage\")\n",
    "\n",
    "plt.show()"
   ]
  },
  {
   "cell_type": "markdown",
   "metadata": {},
   "source": [
    "## 6 Exposure Analysis"
   ]
  },
  {
   "cell_type": "markdown",
   "metadata": {},
   "source": [
    "To run the model we need some test exposure data. Lets have a look at an example Location and Account file. "
   ]
  },
  {
   "cell_type": "markdown",
   "metadata": {},
   "source": [
    "### 6.1 Locations"
   ]
  },
  {
   "cell_type": "code",
   "execution_count": 47,
   "metadata": {},
   "outputs": [],
   "source": [
    "gdf_gar = omf.get_exposure(gar)"
   ]
  },
  {
   "cell_type": "code",
   "execution_count": 48,
   "metadata": {},
   "outputs": [],
   "source": [
    "gdf_gar_location = omf.get_location(gdf_gar)"
   ]
  },
  {
   "cell_type": "code",
   "execution_count": 49,
   "metadata": {},
   "outputs": [],
   "source": [
    "gdf_gar_occupancy = omf.lookup_occupancycode(gar_dictionary, gdf_gar_location)"
   ]
  },
  {
   "cell_type": "code",
   "execution_count": 50,
   "metadata": {},
   "outputs": [
    {
     "name": "stdout",
     "output_type": "stream",
     "text": [
      " A csv of the Exposure dataframe in the oasis format has been saved into ../tests/inputs/SourceLocOED.csv\n"
     ]
    },
    {
     "data": {
      "text/html": [
       "<div>\n",
       "<style scoped>\n",
       "    .dataframe tbody tr th:only-of-type {\n",
       "        vertical-align: middle;\n",
       "    }\n",
       "\n",
       "    .dataframe tbody tr th {\n",
       "        vertical-align: top;\n",
       "    }\n",
       "\n",
       "    .dataframe thead th {\n",
       "        text-align: right;\n",
       "    }\n",
       "</style>\n",
       "<table border=\"1\" class=\"dataframe\">\n",
       "  <thead>\n",
       "    <tr style=\"text-align: right;\">\n",
       "      <th></th>\n",
       "      <th>PortNumber</th>\n",
       "      <th>AccNumber</th>\n",
       "      <th>LocNumber</th>\n",
       "      <th>IsTenant</th>\n",
       "      <th>BuildingID</th>\n",
       "      <th>CountryCode</th>\n",
       "      <th>Latitude</th>\n",
       "      <th>Longitude</th>\n",
       "      <th>OccupancyCode</th>\n",
       "      <th>ConstructionCode</th>\n",
       "      <th>LocPerilsCovered</th>\n",
       "      <th>BuildingTIV</th>\n",
       "      <th>ContentsTIV</th>\n",
       "      <th>BITIV</th>\n",
       "      <th>CondNumber</th>\n",
       "      <th>PortNumber</th>\n",
       "      <th>LocCurrency</th>\n",
       "    </tr>\n",
       "  </thead>\n",
       "  <tbody>\n",
       "    <tr>\n",
       "      <th>0</th>\n",
       "      <td>1</td>\n",
       "      <td>A11111</td>\n",
       "      <td>0</td>\n",
       "      <td>A11111</td>\n",
       "      <td>1</td>\n",
       "      <td>GLP</td>\n",
       "      <td>16.512500</td>\n",
       "      <td>-61.479167</td>\n",
       "      <td>1234</td>\n",
       "      <td>5000</td>\n",
       "      <td>WTC</td>\n",
       "      <td>1.91069</td>\n",
       "      <td>0</td>\n",
       "      <td>0</td>\n",
       "      <td>0</td>\n",
       "      <td>1</td>\n",
       "      <td></td>\n",
       "    </tr>\n",
       "    <tr>\n",
       "      <th>1</th>\n",
       "      <td>1</td>\n",
       "      <td>A11111</td>\n",
       "      <td>1</td>\n",
       "      <td>A11111</td>\n",
       "      <td>1</td>\n",
       "      <td>GLP</td>\n",
       "      <td>16.470833</td>\n",
       "      <td>-61.520833</td>\n",
       "      <td>1234</td>\n",
       "      <td>5000</td>\n",
       "      <td>WTC</td>\n",
       "      <td>28.35320</td>\n",
       "      <td>0</td>\n",
       "      <td>0</td>\n",
       "      <td>0</td>\n",
       "      <td>1</td>\n",
       "      <td></td>\n",
       "    </tr>\n",
       "    <tr>\n",
       "      <th>2</th>\n",
       "      <td>1</td>\n",
       "      <td>A11111</td>\n",
       "      <td>2</td>\n",
       "      <td>A11111</td>\n",
       "      <td>1</td>\n",
       "      <td>GLP</td>\n",
       "      <td>16.470833</td>\n",
       "      <td>-61.479167</td>\n",
       "      <td>1234</td>\n",
       "      <td>5000</td>\n",
       "      <td>WTC</td>\n",
       "      <td>57.82610</td>\n",
       "      <td>0</td>\n",
       "      <td>0</td>\n",
       "      <td>0</td>\n",
       "      <td>1</td>\n",
       "      <td></td>\n",
       "    </tr>\n",
       "    <tr>\n",
       "      <th>3</th>\n",
       "      <td>1</td>\n",
       "      <td>A11111</td>\n",
       "      <td>3</td>\n",
       "      <td>A11111</td>\n",
       "      <td>1</td>\n",
       "      <td>GLP</td>\n",
       "      <td>16.470833</td>\n",
       "      <td>-61.437500</td>\n",
       "      <td>1234</td>\n",
       "      <td>5000</td>\n",
       "      <td>WTC</td>\n",
       "      <td>12.27960</td>\n",
       "      <td>0</td>\n",
       "      <td>0</td>\n",
       "      <td>0</td>\n",
       "      <td>1</td>\n",
       "      <td></td>\n",
       "    </tr>\n",
       "    <tr>\n",
       "      <th>4</th>\n",
       "      <td>1</td>\n",
       "      <td>A11111</td>\n",
       "      <td>4</td>\n",
       "      <td>A11111</td>\n",
       "      <td>1</td>\n",
       "      <td>GLP</td>\n",
       "      <td>16.429167</td>\n",
       "      <td>-61.520833</td>\n",
       "      <td>1234</td>\n",
       "      <td>5000</td>\n",
       "      <td>WTC</td>\n",
       "      <td>44.53360</td>\n",
       "      <td>0</td>\n",
       "      <td>0</td>\n",
       "      <td>0</td>\n",
       "      <td>1</td>\n",
       "      <td></td>\n",
       "    </tr>\n",
       "  </tbody>\n",
       "</table>\n",
       "</div>"
      ],
      "text/plain": [
       "   PortNumber AccNumber  LocNumber IsTenant  BuildingID CountryCode  \\\n",
       "0           1    A11111          0   A11111           1         GLP   \n",
       "1           1    A11111          1   A11111           1         GLP   \n",
       "2           1    A11111          2   A11111           1         GLP   \n",
       "3           1    A11111          3   A11111           1         GLP   \n",
       "4           1    A11111          4   A11111           1         GLP   \n",
       "\n",
       "    Latitude  Longitude  OccupancyCode  ConstructionCode LocPerilsCovered  \\\n",
       "0  16.512500 -61.479167           1234              5000              WTC   \n",
       "1  16.470833 -61.520833           1234              5000              WTC   \n",
       "2  16.470833 -61.479167           1234              5000              WTC   \n",
       "3  16.470833 -61.437500           1234              5000              WTC   \n",
       "4  16.429167 -61.520833           1234              5000              WTC   \n",
       "\n",
       "   BuildingTIV  ContentsTIV  BITIV  CondNumber  PortNumber LocCurrency  \n",
       "0      1.91069            0      0           0           1              \n",
       "1     28.35320            0      0           0           1              \n",
       "2     57.82610            0      0           0           1              \n",
       "3     12.27960            0      0           0           1              \n",
       "4     44.53360            0      0           0           1              "
      ]
     },
     "execution_count": 50,
     "metadata": {},
     "output_type": "execute_result"
    }
   ],
   "source": [
    "test_locations = omf.convert_to_oasis_exposure(gdf_gar_occupancy, \n",
    "                                               PortNumber = 1,\n",
    "                                               AccNumber= 'A11111',\n",
    "                                               IsTenant = 1,\n",
    "                                               BuildingID = 1,\n",
    "                                               ConstructionCode = 5000,\n",
    "                                               LocPerilsCovered = 'WTC',\n",
    "                                               ContentsTIV = 0,\n",
    "                                               BITIV = 0,\n",
    "                                               CondNumber = 0,\n",
    "                                               fp = fp_exp2\n",
    "                                              )\n",
    "print(\" A csv of the Exposure dataframe in the oasis format has been saved into \" + str(fp_exp2))\n",
    "test_locations.head()"
   ]
  },
  {
   "cell_type": "markdown",
   "metadata": {},
   "source": [
    "### 6.2 Accounts"
   ]
  },
  {
   "cell_type": "code",
   "execution_count": 51,
   "metadata": {},
   "outputs": [
    {
     "data": {
      "text/html": [
       "<div>\n",
       "<style scoped>\n",
       "    .dataframe tbody tr th:only-of-type {\n",
       "        vertical-align: middle;\n",
       "    }\n",
       "\n",
       "    .dataframe tbody tr th {\n",
       "        vertical-align: top;\n",
       "    }\n",
       "\n",
       "    .dataframe thead th {\n",
       "        text-align: right;\n",
       "    }\n",
       "</style>\n",
       "<table border=\"1\" class=\"dataframe\">\n",
       "  <thead>\n",
       "    <tr style=\"text-align: right;\">\n",
       "      <th></th>\n",
       "      <th>PortNumber</th>\n",
       "      <th>PortName</th>\n",
       "      <th>PortNotes</th>\n",
       "      <th>AccNumber</th>\n",
       "      <th>AccName</th>\n",
       "      <th>AccGroup</th>\n",
       "      <th>AccStatus</th>\n",
       "      <th>ExpiringAccNumber</th>\n",
       "      <th>CedantName</th>\n",
       "      <th>AccCurrency</th>\n",
       "      <th>...</th>\n",
       "      <th>CondLimit3Contents</th>\n",
       "      <th>CondLimitCode4BI</th>\n",
       "      <th>CondLimitType4BI</th>\n",
       "      <th>CondLimit4BI</th>\n",
       "      <th>CondLimitCode5PD</th>\n",
       "      <th>CondLimitType5PD</th>\n",
       "      <th>CondLimit5PD</th>\n",
       "      <th>CondLimitCode6All</th>\n",
       "      <th>CondLimitType6All</th>\n",
       "      <th>CondLimit6All</th>\n",
       "    </tr>\n",
       "  </thead>\n",
       "  <tbody>\n",
       "    <tr>\n",
       "      <th>0</th>\n",
       "      <td>1</td>\n",
       "      <td>0</td>\n",
       "      <td>0</td>\n",
       "      <td>A11111</td>\n",
       "      <td>0</td>\n",
       "      <td>0</td>\n",
       "      <td>0</td>\n",
       "      <td>0</td>\n",
       "      <td>0</td>\n",
       "      <td>GBP</td>\n",
       "      <td>...</td>\n",
       "      <td>0</td>\n",
       "      <td>0</td>\n",
       "      <td>0</td>\n",
       "      <td>0</td>\n",
       "      <td>0</td>\n",
       "      <td>0</td>\n",
       "      <td>0</td>\n",
       "      <td>0</td>\n",
       "      <td>0</td>\n",
       "      <td>0</td>\n",
       "    </tr>\n",
       "    <tr>\n",
       "      <th>1</th>\n",
       "      <td>1</td>\n",
       "      <td>0</td>\n",
       "      <td>0</td>\n",
       "      <td>A11111</td>\n",
       "      <td>0</td>\n",
       "      <td>0</td>\n",
       "      <td>0</td>\n",
       "      <td>0</td>\n",
       "      <td>0</td>\n",
       "      <td>GBP</td>\n",
       "      <td>...</td>\n",
       "      <td>0</td>\n",
       "      <td>0</td>\n",
       "      <td>0</td>\n",
       "      <td>0</td>\n",
       "      <td>0</td>\n",
       "      <td>0</td>\n",
       "      <td>0</td>\n",
       "      <td>0</td>\n",
       "      <td>0</td>\n",
       "      <td>0</td>\n",
       "    </tr>\n",
       "  </tbody>\n",
       "</table>\n",
       "<p>2 rows × 206 columns</p>\n",
       "</div>"
      ],
      "text/plain": [
       "   PortNumber  PortName  PortNotes AccNumber  AccName  AccGroup  AccStatus  \\\n",
       "0           1         0          0    A11111        0         0          0   \n",
       "1           1         0          0    A11111        0         0          0   \n",
       "\n",
       "   ExpiringAccNumber  CedantName AccCurrency  ...  CondLimit3Contents  \\\n",
       "0                  0           0         GBP  ...                   0   \n",
       "1                  0           0         GBP  ...                   0   \n",
       "\n",
       "   CondLimitCode4BI  CondLimitType4BI  CondLimit4BI  CondLimitCode5PD  \\\n",
       "0                 0                 0             0                 0   \n",
       "1                 0                 0             0                 0   \n",
       "\n",
       "   CondLimitType5PD  CondLimit5PD  CondLimitCode6All  CondLimitType6All  \\\n",
       "0                 0             0                  0                  0   \n",
       "1                 0             0                  0                  0   \n",
       "\n",
       "   CondLimit6All  \n",
       "0              0  \n",
       "1              0  \n",
       "\n",
       "[2 rows x 206 columns]"
      ]
     },
     "execution_count": 51,
     "metadata": {},
     "output_type": "execute_result"
    }
   ],
   "source": [
    "test_accounts = pd.read_csv('../tests/inputs/SourceAccOEDPiWind.csv')\n",
    "test_accounts.head()"
   ]
  },
  {
   "cell_type": "markdown",
   "metadata": {},
   "source": [
    "## 7 Oasis Analysis"
   ]
  },
  {
   "cell_type": "markdown",
   "metadata": {},
   "source": [
    "### 7.1 Analysis settings"
   ]
  },
  {
   "cell_type": "markdown",
   "metadata": {},
   "source": [
    "To run the model, we also need to define some analysis settings. Lets have a look at an example settings file."
   ]
  },
  {
   "cell_type": "code",
   "execution_count": 52,
   "metadata": {},
   "outputs": [
    {
     "name": "stdout",
     "output_type": "stream",
     "text": [
      "{\n",
      " \"analysis_tag\": \"base_example\",\n",
      " \"source_tag\": \"MDK\",\n",
      " \"model_version_id\": \"PiWind\",\n",
      " \"module_supplier_id\": \"OasisLMF\",\n",
      " \"number_of_samples\": 10,\n",
      " \"gul_threshold\": 0,\n",
      " \"gul_output\": true,\n",
      " \"model_settings\": {\n",
      "  \"event_set\": \"p\",\n",
      "  \"event_occurrence_id\": \"lt\"\n",
      " },\n",
      " \"gul_summaries\": [\n",
      "  {\n",
      "   \"aalcalc\": true,\n",
      "   \"eltcalc\": true,\n",
      "   \"id\": 1,\n",
      "   \"lec_output\": true,\n",
      "   \"leccalc\": {\n",
      "    \"full_uncertainty_aep\": true,\n",
      "    \"full_uncertainty_oep\": true,\n",
      "    \"return_period_file\": true\n",
      "   }\n",
      "  }\n",
      " ],\n",
      " \"il_output\": true,\n",
      " \"il_summaries\": [\n",
      "  {\n",
      "   \"aalcalc\": true,\n",
      "   \"eltcalc\": true,\n",
      "   \"id\": 1,\n",
      "   \"lec_output\": true,\n",
      "   \"leccalc\": {\n",
      "    \"full_uncertainty_aep\": true,\n",
      "    \"full_uncertainty_oep\": true,\n",
      "    \"return_period_file\": true\n",
      "   }\n",
      "  }\n",
      " ],\n",
      " \"ri_output\": true,\n",
      " \"ri_summaries\": [\n",
      "  {\n",
      "   \"aalcalc\": true,\n",
      "   \"eltcalc\": true,\n",
      "   \"id\": 1,\n",
      "   \"lec_output\": true,\n",
      "   \"leccalc\": {\n",
      "    \"full_uncertainty_aep\": true,\n",
      "    \"full_uncertainty_oep\": true,\n",
      "    \"return_period_file\": true\n",
      "   }\n",
      "  }\n",
      " ]\n",
      "}\n"
     ]
    }
   ],
   "source": [
    "with open('../analysis_settings.json', 'r') as myfile:\n",
    "    analysis_settings=json.loads(myfile.read().replace('\\n', ''))\n",
    "print(json.dumps(analysis_settings, indent=True))"
   ]
  },
  {
   "cell_type": "markdown",
   "metadata": {},
   "source": [
    "We can now run the model using the Oasis MDK."
   ]
  },
  {
   "cell_type": "markdown",
   "metadata": {},
   "source": [
    "### 7.2 Files to bin convertions and validation"
   ]
  },
  {
   "cell_type": "markdown",
   "metadata": {},
   "source": [
    "First, convert the csv file into the required binary format; and then validate them: "
   ]
  },
  {
   "cell_type": "code",
   "execution_count": 53,
   "metadata": {},
   "outputs": [],
   "source": [
    "! evetobin < ../model_data/PiWind/events_p.csv > ../model_data/PiWind/events_p.bin"
   ]
  },
  {
   "cell_type": "code",
   "execution_count": 54,
   "metadata": {},
   "outputs": [],
   "source": [
    "! footprinttobin -i 29 <../model_data/PiWind/footprint.csv"
   ]
  },
  {
   "cell_type": "code",
   "execution_count": 55,
   "metadata": {},
   "outputs": [
    {
     "name": "stdout",
     "output_type": "stream",
     "text": [
      "All checks pass.\r\n",
      "Maximum value of intensity_bin_index = 19\r\n"
     ]
    }
   ],
   "source": [
    "! validatefootprint < ../model_data/PiWind/footprint.csv"
   ]
  },
  {
   "cell_type": "code",
   "execution_count": 56,
   "metadata": {},
   "outputs": [],
   "source": [
    "! cp footprint.bin ../model_data/PiWind/ \n",
    "! cp footprint.idx ../model_data/PiWind/"
   ]
  },
  {
   "cell_type": "code",
   "execution_count": 57,
   "metadata": {},
   "outputs": [],
   "source": [
    "! vulnerabilitytobin -d 11 < ../model_data/PiWind/vulnerability.csv > ../model_data/PiWind/vulnerability.bin"
   ]
  },
  {
   "cell_type": "code",
   "execution_count": 61,
   "metadata": {},
   "outputs": [
    {
     "name": "stdout",
     "output_type": "stream",
     "text": [
      "Warning: All intensity bins must be present for each vulnerability ID in single peril models:\r\n",
      "Warning: Vulnerability ID 152: 32 out of 33 intensity bins present\r\n",
      "Warning: Vulnerability ID 942: 30 out of 33 intensity bins present\r\n",
      "Warning: Vulnerability ID 964: 26 out of 33 intensity bins present\r\n",
      "All checks pass.  Please take note of any warnings.\r\n",
      "Maximum value of damage_bin_index = 11\r\n"
     ]
    }
   ],
   "source": [
    "! validatevulnerability < ../model_data/PiWind/vulnerability.csv"
   ]
  },
  {
   "cell_type": "code",
   "execution_count": 62,
   "metadata": {},
   "outputs": [],
   "source": [
    "! occurrencetobin -P972 < ../model_data/PiWind/occurrence_lt.csv > ../model_data/PiWind/occurrence_lt.bin"
   ]
  },
  {
   "cell_type": "code",
   "execution_count": 63,
   "metadata": {},
   "outputs": [],
   "source": [
    "! returnperiodtobin < ../model_data/PiWind/returnperiods.csv > ../model_data/PiWind/returnperiods.bin"
   ]
  },
  {
   "cell_type": "code",
   "execution_count": 64,
   "metadata": {},
   "outputs": [
    {
     "name": "stdout",
     "output_type": "stream",
     "text": [
      "Checking ../model_data/PiWind/vulnerability.csv ...\r\n",
      "... Done.\r\n",
      "Checking ../model_data/PiWind/footprint.csv ...\r\n",
      "... Done.\r\n",
      "Cross checks pass.\r\n"
     ]
    }
   ],
   "source": [
    "! crossvalidation -d ../model_data/PiWind/damage_bin_dict.csv -f ../model_data/PiWind/footprint.csv -s ../model_data/PiWind/vulnerability.csv"
   ]
  },
  {
   "cell_type": "markdown",
   "metadata": {},
   "source": [
    "### 7.3 Run model"
   ]
  },
  {
   "cell_type": "code",
   "execution_count": 65,
   "metadata": {},
   "outputs": [
    {
     "name": "stdout",
     "output_type": "stream",
     "text": [
      "\n",
      "Processing arguments - RunModel\n",
      "RUNNING: oasislmf.manager.interface\n",
      "  0%|                                                     | 0/2 [00:00<?, ?it/s]\n",
      "Processing arguments - Creating Oasis Files\n",
      "\n",
      "Generating Oasis files (GUL=True, IL=True, RIL=True)\n",
      "RUNNING: oasislmf.lookup.rtree.get_vulnerabilities\n",
      "Note: NumExpr detected 20 cores but \"NUMEXPR_MAX_THREADS\" not set, so enforcing safe limit of 8.\n",
      "NumExpr defaulting to 8 threads.\n",
      "\n",
      "Keys successful: /home/macab/OasisEvaluation/TestOasisEvaluation_GLP/Oasis_GLP/tests/outputs/analysis/input/keys.csv generated with 2060 items\n",
      "Keys errors: /home/macab/OasisEvaluation/TestOasisEvaluation_GLP/Oasis_GLP/tests/outputs/analysis/input/keys-errors.csv generated with 0 items\n",
      "RUNNING: oasislmf.preparation.gul_inputs.get_gul_input_items\n",
      "RUNNING: oasislmf.preparation.summaries.write_exposure_summary\n",
      "RUNNING: oasislmf.preparation.summaries.get_exposure_totals\n",
      "RUNNING: oasislmf.preparation.summaries.get_exposure_summary_all\n",
      "RUNNING: oasislmf.preparation.summaries.get_exposure_summary_by_status\n",
      "RUNNING: oasislmf.preparation.summaries.get_exposure_summary_by_status\n",
      "RUNNING: oasislmf.preparation.summaries.get_exposure_summary_by_status\n",
      "RUNNING: oasislmf.preparation.summaries.get_exposure_summary_by_status\n",
      "RUNNING: oasislmf.preparation.summaries.get_exposure_summary_by_status\n",
      "RUNNING: oasislmf.preparation.summaries.get_exposure_summary_by_status\n",
      "RUNNING: oasislmf.preparation.summaries.get_exposure_summary_by_status\n",
      "RUNNING: oasislmf.preparation.gul_inputs.write_gul_input_files\n",
      "RUNNING: oasislmf.preparation.gul_inputs.write_items_file\n",
      "RUNNING: oasislmf.preparation.gul_inputs.write_coverages_file\n",
      "RUNNING: oasislmf.preparation.summaries.get_summary_mapping\n",
      "RUNNING: oasislmf.preparation.summaries.write_mapping_file\n",
      "RUNNING: oasislmf.preparation.il_inputs.get_il_input_items\n",
      "RUNNING: oasislmf.preparation.il_inputs.write_il_input_files\n",
      "RUNNING: oasislmf.preparation.il_inputs.write_fm_policytc_file\n",
      "RUNNING: oasislmf.preparation.il_inputs.write_fm_profile_file\n",
      "RUNNING: oasislmf.preparation.il_inputs.write_fm_programme_file\n",
      "RUNNING: oasislmf.preparation.il_inputs.write_fm_xref_file\n",
      "RUNNING: oasislmf.preparation.summaries.get_summary_mapping\n",
      "RUNNING: oasislmf.preparation.summaries.write_mapping_file\n",
      "RUNNING: oasislmf.preparation.reinsurance_layer.write_files_for_reinsurance\n",
      "\n",
      "Oasis files generated: {\n",
      "    \"items\": \"/home/macab/OasisEvaluation/TestOasisEvaluation_GLP/Oasis_GLP/tests/outputs/analysis/input/items.csv\",\n",
      "    \"coverages\": \"/home/macab/OasisEvaluation/TestOasisEvaluation_GLP/Oasis_GLP/tests/outputs/analysis/input/coverages.csv\",\n",
      "    \"fm_policytc\": \"/home/macab/OasisEvaluation/TestOasisEvaluation_GLP/Oasis_GLP/tests/outputs/analysis/input/fm_policytc.csv\",\n",
      "    \"fm_profile\": \"/home/macab/OasisEvaluation/TestOasisEvaluation_GLP/Oasis_GLP/tests/outputs/analysis/input/fm_profile.csv\",\n",
      "    \"fm_programme\": \"/home/macab/OasisEvaluation/TestOasisEvaluation_GLP/Oasis_GLP/tests/outputs/analysis/input/fm_programme.csv\",\n",
      "    \"fm_xref\": \"/home/macab/OasisEvaluation/TestOasisEvaluation_GLP/Oasis_GLP/tests/outputs/analysis/input/fm_xref.csv\",\n",
      "    \"ri_layers\": \"/home/macab/OasisEvaluation/TestOasisEvaluation_GLP/Oasis_GLP/tests/outputs/analysis/input/ri_layers.json\",\n",
      "    \"RI_1\": \"/home/macab/OasisEvaluation/TestOasisEvaluation_GLP/Oasis_GLP/tests/outputs/analysis/input/RI_1\"\n",
      "}\n",
      " 50%|██████████████████████▌                      | 1/2 [00:02<00:02,  2.63s/it]\n",
      "Generating losses (GUL=True, IL=True, RIL=True)\n",
      "RUNNING: oasislmf.execution.bin.prepare_run_directory\n",
      "RUNNING: oasislmf.preparation.summaries.generate_summaryxref_files\n",
      "RUNNING: oasislmf.preparation.summaries.get_summary_xref_df\n",
      "RUNNING: oasislmf.preparation.summaries.write_df_to_file\n",
      "RUNNING: oasislmf.preparation.summaries.write_df_to_file\n",
      "RUNNING: oasislmf.preparation.summaries.get_summary_xref_df\n",
      "RUNNING: oasislmf.preparation.summaries.write_df_to_file\n",
      "RUNNING: oasislmf.preparation.summaries.write_df_to_file\n",
      "RUNNING: oasislmf.preparation.summaries.get_summary_xref_df\n",
      "RUNNING: oasislmf.preparation.summaries.write_df_to_file\n",
      "RUNNING: oasislmf.preparation.summaries.write_df_to_file\n",
      "RUNNING: oasislmf.execution.bin.csv_to_bin\n",
      "RUNNING: oasislmf.execution.bin.csv_to_bin\n",
      "RUNNING: oasislmf.execution.bin.prepare_run_inputs\n",
      "RUNNING: oasislmf.execution.runner.run\n",
      "[OK] eve\n",
      "[OK] getmodel\n",
      "[OK] gulcalc\n",
      "[OK] fmcalc\n",
      "[OK] summarycalc\n",
      "[OK] eltcalc\n",
      "[OK] aalcalc\n",
      "[OK] leccalc\n",
      "Run Completed\n",
      "\n",
      "Losses generated in /home/macab/OasisEvaluation/TestOasisEvaluation_GLP/Oasis_GLP/tests/outputs/analysis\n",
      "100%|█████████████████████████████████████████████| 2/2 [00:07<00:00,  3.54s/it]\n",
      "\n",
      "Model run completed successfully in /home/macab/OasisEvaluation/TestOasisEvaluation_GLP/Oasis_GLP/tests/outputs/analysis\n"
     ]
    }
   ],
   "source": [
    "! rm -rf /tmp/analysis_test\n",
    "! oasislmf model run -C ../oasislmf.json -r ../tests/outputs/analysis"
   ]
  },
  {
   "cell_type": "markdown",
   "metadata": {},
   "source": [
    "### 7.4 Results"
   ]
  },
  {
   "cell_type": "markdown",
   "metadata": {},
   "source": [
    "Lets visualize the output of our analysis."
   ]
  },
  {
   "cell_type": "code",
   "execution_count": 66,
   "metadata": {},
   "outputs": [
    {
     "name": "stderr",
     "output_type": "stream",
     "text": [
      "<ipython-input-66-918dc818af71>:10: UserWarning: FixedFormatter should only be used together with FixedLocator\n",
      "  ax.set_yticklabels(['{:,}'.format(int(x)) for x in ax.get_yticks().tolist()])\n"
     ]
    },
    {
     "data": {
      "text/plain": [
       "Text(0, 0.5, 'Loss')"
      ]
     },
     "execution_count": 66,
     "metadata": {},
     "output_type": "execute_result"
    },
    {
     "data": {
      "image/png": "[encoded data removed]",
      "text/plain": [
       "<Figure size 432x288 with 1 Axes>"
      ]
     },
     "metadata": {
      "needs_background": "light"
     },
     "output_type": "display_data"
    }
   ],
   "source": [
    "analysis_directory = \"../tests/outputs/analysis\"\n",
    "gul_aep = pd.read_csv(os.path.join(analysis_directory, \"output\", \"gul_S1_leccalc_full_uncertainty_aep.csv\"))\n",
    "gul_aep = gul_aep[gul_aep.type == 1]\n",
    "gul_oep = pd.read_csv(os.path.join(analysis_directory, \"output\", \"gul_S1_leccalc_full_uncertainty_oep.csv\"))\n",
    "gul_oep = gul_oep[gul_oep.type == 1]\n",
    "eps = pd.merge(gul_oep, gul_aep, on=[\"summary_id\", \"return_period\"], suffixes=[\"_oep\", \"_aep\"])\n",
    "eps = eps.sort_values(by=\"return_period\", ascending=True)\n",
    "fig, ax = plt.subplots()\n",
    "eps.plot(ax=ax, kind='bar', x='return_period', y=[\"loss_oep\", \"loss_aep\"])\n",
    "ax.set_yticklabels(['{:,}'.format(int(x)) for x in ax.get_yticks().tolist()])\n",
    "ax.set_xticklabels(['{:,}'.format(int(x)) for x in eps.return_period])\n",
    "plt.legend(('OEP', 'AEP'))\n",
    "ax.set_xlabel(\"Return period (years)\")\n",
    "ax.set_ylabel(\"Loss\")"
   ]
  },
  {
   "cell_type": "code",
   "execution_count": null,
   "metadata": {},
   "outputs": [],
   "source": []
  },
  {
   "cell_type": "code",
   "execution_count": null,
   "metadata": {},
   "outputs": [],
   "source": []
  }
 ],
 "metadata": {
  "kernelspec": {
   "display_name": "Python 3",
   "language": "python",
   "name": "python3"
  },
  "language_info": {
   "codemirror_mode": {
    "name": "ipython",
    "version": 3
   },
   "file_extension": ".py",
   "mimetype": "text/x-python",
   "name": "python",
   "nbconvert_exporter": "python",
   "pygments_lexer": "ipython3",
   "version": "3.8.5"
  }
 },
 "nbformat": 4,
 "nbformat_minor": 4
}
