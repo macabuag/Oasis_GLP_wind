{
 "cells": [
  {
   "cell_type": "code",
   "execution_count": 1,
   "metadata": {},
   "outputs": [],
   "source": [
    "%config IPCompleter.greedy=True\n"
   ]
  },
  {
   "cell_type": "code",
   "execution_count": 2,
   "metadata": {},
   "outputs": [],
   "source": [
    "import pandas as pd\n",
    "import matplotlib as mpl\n",
    "import matplotlib.pyplot as plt\n",
    "import geopandas as gpd\n",
    "import math\n",
    "import numpy as np\n",
    "import json\n",
    "import seaborn as sns\n",
    "import folium\n",
    "import os\n",
    "from shapely.geometry import Point, Polygon\n",
    "from descartes import PolygonPatch\n",
    "from mpl_toolkits.axes_grid1 import AxesGrid\n",
    "from matplotlib.offsetbox import AnchoredText"
   ]
  },
  {
   "cell_type": "markdown",
   "metadata": {},
   "source": [
    "Lets have a look at the model grid data contained in the Area Peril dictionary file. \n",
    "Note that the dictionary is only meta-data, and not required for model execution."
   ]
  },
  {
   "cell_type": "code",
   "execution_count": 3,
   "metadata": {},
   "outputs": [
    {
     "data": {
      "text/html": [
       "<div>\n",
       "<style scoped>\n",
       "    .dataframe tbody tr th:only-of-type {\n",
       "        vertical-align: middle;\n",
       "    }\n",
       "\n",
       "    .dataframe tbody tr th {\n",
       "        vertical-align: top;\n",
       "    }\n",
       "\n",
       "    .dataframe thead th {\n",
       "        text-align: right;\n",
       "    }\n",
       "</style>\n",
       "<table border=\"1\" class=\"dataframe\">\n",
       "  <thead>\n",
       "    <tr style=\"text-align: right;\">\n",
       "      <th></th>\n",
       "      <th>PERIL_ID</th>\n",
       "      <th>COVERAGE_TYPE</th>\n",
       "      <th>LON1</th>\n",
       "      <th>LAT1</th>\n",
       "      <th>LON2</th>\n",
       "      <th>LAT2</th>\n",
       "      <th>LON3</th>\n",
       "      <th>LAT3</th>\n",
       "      <th>LON4</th>\n",
       "      <th>LAT4</th>\n",
       "      <th>AREA_PERIL_ID</th>\n",
       "    </tr>\n",
       "  </thead>\n",
       "  <tbody>\n",
       "    <tr>\n",
       "      <th>0</th>\n",
       "      <td>WTC</td>\n",
       "      <td>1</td>\n",
       "      <td>-61.901838</td>\n",
       "      <td>16.608005</td>\n",
       "      <td>-61.808102</td>\n",
       "      <td>16.607489</td>\n",
       "      <td>-61.808657</td>\n",
       "      <td>16.517109</td>\n",
       "      <td>-61.902349</td>\n",
       "      <td>16.517622</td>\n",
       "      <td>1</td>\n",
       "    </tr>\n",
       "    <tr>\n",
       "      <th>1</th>\n",
       "      <td>WTC</td>\n",
       "      <td>1</td>\n",
       "      <td>-61.902349</td>\n",
       "      <td>16.517622</td>\n",
       "      <td>-61.808657</td>\n",
       "      <td>16.517109</td>\n",
       "      <td>-61.809209</td>\n",
       "      <td>16.426728</td>\n",
       "      <td>-61.902858</td>\n",
       "      <td>16.427238</td>\n",
       "      <td>2</td>\n",
       "    </tr>\n",
       "    <tr>\n",
       "      <th>2</th>\n",
       "      <td>WTC</td>\n",
       "      <td>1</td>\n",
       "      <td>-61.902858</td>\n",
       "      <td>16.427238</td>\n",
       "      <td>-61.809209</td>\n",
       "      <td>16.426728</td>\n",
       "      <td>-61.809758</td>\n",
       "      <td>16.336346</td>\n",
       "      <td>-61.903363</td>\n",
       "      <td>16.336853</td>\n",
       "      <td>3</td>\n",
       "    </tr>\n",
       "    <tr>\n",
       "      <th>3</th>\n",
       "      <td>WTC</td>\n",
       "      <td>1</td>\n",
       "      <td>-61.903363</td>\n",
       "      <td>16.336853</td>\n",
       "      <td>-61.809758</td>\n",
       "      <td>16.336346</td>\n",
       "      <td>-61.810303</td>\n",
       "      <td>16.245963</td>\n",
       "      <td>-61.903865</td>\n",
       "      <td>16.246467</td>\n",
       "      <td>4</td>\n",
       "    </tr>\n",
       "    <tr>\n",
       "      <th>4</th>\n",
       "      <td>WTC</td>\n",
       "      <td>1</td>\n",
       "      <td>-61.903865</td>\n",
       "      <td>16.246467</td>\n",
       "      <td>-61.810303</td>\n",
       "      <td>16.245963</td>\n",
       "      <td>-61.810844</td>\n",
       "      <td>16.155580</td>\n",
       "      <td>-61.904364</td>\n",
       "      <td>16.156081</td>\n",
       "      <td>5</td>\n",
       "    </tr>\n",
       "  </tbody>\n",
       "</table>\n",
       "</div>"
      ],
      "text/plain": [
       "  PERIL_ID  COVERAGE_TYPE       LON1       LAT1       LON2       LAT2  \\\n",
       "0      WTC              1 -61.901838  16.608005 -61.808102  16.607489   \n",
       "1      WTC              1 -61.902349  16.517622 -61.808657  16.517109   \n",
       "2      WTC              1 -61.902858  16.427238 -61.809209  16.426728   \n",
       "3      WTC              1 -61.903363  16.336853 -61.809758  16.336346   \n",
       "4      WTC              1 -61.903865  16.246467 -61.810303  16.245963   \n",
       "\n",
       "        LON3       LAT3       LON4       LAT4  AREA_PERIL_ID  \n",
       "0 -61.808657  16.517109 -61.902349  16.517622              1  \n",
       "1 -61.809209  16.426728 -61.902858  16.427238              2  \n",
       "2 -61.809758  16.336346 -61.903363  16.336853              3  \n",
       "3 -61.810303  16.245963 -61.903865  16.246467              4  \n",
       "4 -61.810844  16.155580 -61.904364  16.156081              5  "
      ]
     },
     "execution_count": 3,
     "metadata": {},
     "output_type": "execute_result"
    }
   ],
   "source": [
    "area_peril_dictionary = pd.read_csv(\"../keys_data/PiWind/areaperil_dict.csv\")\n",
    "area_peril_dictionary.head()"
   ]
  },
  {
   "cell_type": "markdown",
   "metadata": {},
   "source": [
    "Lets plot the area peril cells on a map of the UK. For this model, the area perils are a simple uniform grid in a square."
   ]
  },
  {
   "cell_type": "code",
   "execution_count": 4,
   "metadata": {},
   "outputs": [],
   "source": [
    "m = folium.Map(location=[\t16.1730949, -61.4054001], zoom_start=11, tiles='cartodbpositron')\n",
    "area_peril_dictionary['lat']=area_peril_dictionary['LAT1']\n",
    "area_peril_dictionary['lon']=area_peril_dictionary['LON1']\n",
    "num_cells = area_peril_dictionary.lat.count()\n",
    "num_cells_per_side = math.sqrt(num_cells)\n",
    "cell_size_lat = (max(area_peril_dictionary.lat) - min(area_peril_dictionary.lat)) / (num_cells_per_side - 1)\n",
    "cell_size_lon = (max(area_peril_dictionary.lon) - min(area_peril_dictionary.lon)) / (num_cells_per_side - 1)\n",
    "for i, row in area_peril_dictionary.iterrows():\n",
    "    geometry = [Polygon([\n",
    "        (row.lon, row.lat),\n",
    "        (row.lon, row.lat + cell_size_lat),\n",
    "        (row.lon + cell_size_lon, row.lat + cell_size_lat),\n",
    "        (row.lon + cell_size_lon, row.lat)])]        \n",
    "    crs = 'epsg:4326'\n",
    "    d = {'Description': ['All']}\n",
    "    df = pd.DataFrame(data=d)\n",
    "    gdf = gpd.GeoDataFrame(df, crs=crs, geometry=geometry)\n",
    "    folium.GeoJson(gdf).add_to(m)\n",
    "    \n",
    "m.save(\"piwind_extent_map.html\")"
   ]
  },
  {
   "cell_type": "code",
   "execution_count": 5,
   "metadata": {},
   "outputs": [
    {
     "data": {
      "text/html": [
       "<iframe width=\"100%\" height=350 src=\"piwind_extent_map.html\"></iframe>\n"
      ],
      "text/plain": [
       "<IPython.core.display.HTML object>"
      ]
     },
     "metadata": {},
     "output_type": "display_data"
    }
   ],
   "source": [
    "%%HTML\n",
    "<iframe width=\"100%\" height=350 src=\"piwind_extent_map.html\"></iframe>"
   ]
  },
  {
   "cell_type": "markdown",
   "metadata": {},
   "source": [
    "Lets have a look at the data contained in the Intensity Bin dictionary file. \n",
    "Note that the dictionary is only meta-data, and not required for model execution."
   ]
  },
  {
   "cell_type": "code",
   "execution_count": 6,
   "metadata": {},
   "outputs": [
    {
     "data": {
      "text/html": [
       "<div>\n",
       "<style scoped>\n",
       "    .dataframe tbody tr th:only-of-type {\n",
       "        vertical-align: middle;\n",
       "    }\n",
       "\n",
       "    .dataframe tbody tr th {\n",
       "        vertical-align: top;\n",
       "    }\n",
       "\n",
       "    .dataframe thead th {\n",
       "        text-align: right;\n",
       "    }\n",
       "</style>\n",
       "<table border=\"1\" class=\"dataframe\">\n",
       "  <thead>\n",
       "    <tr style=\"text-align: right;\">\n",
       "      <th></th>\n",
       "      <th>bin_index</th>\n",
       "      <th>bin_from</th>\n",
       "      <th>bin_to</th>\n",
       "      <th>interpolation</th>\n",
       "      <th>interval_type</th>\n",
       "    </tr>\n",
       "  </thead>\n",
       "  <tbody>\n",
       "    <tr>\n",
       "      <th>0</th>\n",
       "      <td>1</td>\n",
       "      <td>37.5</td>\n",
       "      <td>42.5</td>\n",
       "      <td>40</td>\n",
       "      <td>1202</td>\n",
       "    </tr>\n",
       "    <tr>\n",
       "      <th>1</th>\n",
       "      <td>2</td>\n",
       "      <td>42.5</td>\n",
       "      <td>47.5</td>\n",
       "      <td>45</td>\n",
       "      <td>1202</td>\n",
       "    </tr>\n",
       "    <tr>\n",
       "      <th>2</th>\n",
       "      <td>3</td>\n",
       "      <td>47.5</td>\n",
       "      <td>52.5</td>\n",
       "      <td>50</td>\n",
       "      <td>1202</td>\n",
       "    </tr>\n",
       "    <tr>\n",
       "      <th>3</th>\n",
       "      <td>4</td>\n",
       "      <td>52.5</td>\n",
       "      <td>57.5</td>\n",
       "      <td>55</td>\n",
       "      <td>1202</td>\n",
       "    </tr>\n",
       "    <tr>\n",
       "      <th>4</th>\n",
       "      <td>5</td>\n",
       "      <td>57.5</td>\n",
       "      <td>62.5</td>\n",
       "      <td>60</td>\n",
       "      <td>1202</td>\n",
       "    </tr>\n",
       "  </tbody>\n",
       "</table>\n",
       "</div>"
      ],
      "text/plain": [
       "   bin_index  bin_from  bin_to  interpolation  interval_type\n",
       "0          1      37.5    42.5             40           1202\n",
       "1          2      42.5    47.5             45           1202\n",
       "2          3      47.5    52.5             50           1202\n",
       "3          4      52.5    57.5             55           1202\n",
       "4          5      57.5    62.5             60           1202"
      ]
     },
     "execution_count": 6,
     "metadata": {},
     "output_type": "execute_result"
    }
   ],
   "source": [
    "intensity_bin_dictionary = pd.read_csv(\"../model_data/PiWind/intensity_bin_dict.csv\")\n",
    "intensity_bin_dictionary.head()"
   ]
  },
  {
   "cell_type": "markdown",
   "metadata": {},
   "source": [
    "Lets have a look at the data contained in the footprint file. "
   ]
  },
  {
   "cell_type": "code",
   "execution_count": 7,
   "metadata": {},
   "outputs": [
    {
     "data": {
      "text/html": [
       "<div>\n",
       "<style scoped>\n",
       "    .dataframe tbody tr th:only-of-type {\n",
       "        vertical-align: middle;\n",
       "    }\n",
       "\n",
       "    .dataframe tbody tr th {\n",
       "        vertical-align: top;\n",
       "    }\n",
       "\n",
       "    .dataframe thead th {\n",
       "        text-align: right;\n",
       "    }\n",
       "</style>\n",
       "<table border=\"1\" class=\"dataframe\">\n",
       "  <thead>\n",
       "    <tr style=\"text-align: right;\">\n",
       "      <th></th>\n",
       "      <th>event_id</th>\n",
       "      <th>areaperil_id</th>\n",
       "      <th>intensity_bin_id</th>\n",
       "      <th>probability</th>\n",
       "    </tr>\n",
       "  </thead>\n",
       "  <tbody>\n",
       "    <tr>\n",
       "      <th>0</th>\n",
       "      <td>1</td>\n",
       "      <td>1</td>\n",
       "      <td>6</td>\n",
       "      <td>1</td>\n",
       "    </tr>\n",
       "    <tr>\n",
       "      <th>1</th>\n",
       "      <td>1</td>\n",
       "      <td>2</td>\n",
       "      <td>7</td>\n",
       "      <td>1</td>\n",
       "    </tr>\n",
       "    <tr>\n",
       "      <th>2</th>\n",
       "      <td>1</td>\n",
       "      <td>3</td>\n",
       "      <td>7</td>\n",
       "      <td>1</td>\n",
       "    </tr>\n",
       "    <tr>\n",
       "      <th>3</th>\n",
       "      <td>1</td>\n",
       "      <td>4</td>\n",
       "      <td>7</td>\n",
       "      <td>1</td>\n",
       "    </tr>\n",
       "    <tr>\n",
       "      <th>4</th>\n",
       "      <td>1</td>\n",
       "      <td>5</td>\n",
       "      <td>7</td>\n",
       "      <td>1</td>\n",
       "    </tr>\n",
       "  </tbody>\n",
       "</table>\n",
       "</div>"
      ],
      "text/plain": [
       "   event_id  areaperil_id  intensity_bin_id  probability\n",
       "0         1             1                 6            1\n",
       "1         1             2                 7            1\n",
       "2         1             3                 7            1\n",
       "3         1             4                 7            1\n",
       "4         1             5                 7            1"
      ]
     },
     "execution_count": 7,
     "metadata": {},
     "output_type": "execute_result"
    }
   ],
   "source": [
    "footprints = pd.read_csv(\"../model_data/PiWind/footprint.csv\")\n",
    "footprints.head()"
   ]
  },
  {
   "cell_type": "code",
   "execution_count": 8,
   "metadata": {},
   "outputs": [
    {
     "data": {
      "text/html": [
       "<div>\n",
       "<style scoped>\n",
       "    .dataframe tbody tr th:only-of-type {\n",
       "        vertical-align: middle;\n",
       "    }\n",
       "\n",
       "    .dataframe tbody tr th {\n",
       "        vertical-align: top;\n",
       "    }\n",
       "\n",
       "    .dataframe thead th {\n",
       "        text-align: right;\n",
       "    }\n",
       "</style>\n",
       "<table border=\"1\" class=\"dataframe\">\n",
       "  <thead>\n",
       "    <tr style=\"text-align: right;\">\n",
       "      <th></th>\n",
       "      <th>event_id</th>\n",
       "    </tr>\n",
       "  </thead>\n",
       "  <tbody>\n",
       "    <tr>\n",
       "      <th>0</th>\n",
       "      <td>1</td>\n",
       "    </tr>\n",
       "    <tr>\n",
       "      <th>1</th>\n",
       "      <td>2</td>\n",
       "    </tr>\n",
       "    <tr>\n",
       "      <th>2</th>\n",
       "      <td>3</td>\n",
       "    </tr>\n",
       "    <tr>\n",
       "      <th>3</th>\n",
       "      <td>4</td>\n",
       "    </tr>\n",
       "    <tr>\n",
       "      <th>4</th>\n",
       "      <td>5</td>\n",
       "    </tr>\n",
       "  </tbody>\n",
       "</table>\n",
       "</div>"
      ],
      "text/plain": [
       "   event_id\n",
       "0         1\n",
       "1         2\n",
       "2         3\n",
       "3         4\n",
       "4         5"
      ]
     },
     "execution_count": 8,
     "metadata": {},
     "output_type": "execute_result"
    }
   ],
   "source": [
    "events = pd.read_csv(\"../model_data/PiWind/events_p.csv\")\n",
    "events.head()"
   ]
  },
  {
   "cell_type": "markdown",
   "metadata": {},
   "source": [
    "Lets visualize the first 5 event footprints."
   ]
  },
  {
   "cell_type": "code",
   "execution_count": 9,
   "metadata": {
    "scrolled": true
   },
   "outputs": [
    {
     "name": "stderr",
     "output_type": "stream",
     "text": [
      "<ipython-input-9-b848c9212b59>:46: MatplotlibDeprecationWarning: Since 3.2, mpl_toolkits's own colorbar implementation is deprecated; it will be removed two minor releases later.  Set the 'mpl_toolkits.legacy_colorbar' rcParam to False to use Matplotlib's default colorbar implementation and suppress this deprecation warning.\n",
      "  grid[0].cax.colorbar(im)\n",
      "/home/macab/MDK/MDK_env/lib/python3.8/site-packages/mpl_toolkits/axes_grid1/axes_grid.py:46: MatplotlibDeprecationWarning: \n",
      "The mpl_toolkits.axes_grid1.colorbar module was deprecated in Matplotlib 3.2 and will be removed two minor releases later. Use matplotlib.colorbar instead.\n",
      "  from .colorbar import Colorbar\n"
     ]
    },
    {
     "data": {
      "image/png": "[encoded data removed]",
      "text/plain": [
       "<Figure size 1440x720 with 10 Axes>"
      ]
     },
     "metadata": {
      "needs_background": "light"
     },
     "output_type": "display_data"
    }
   ],
   "source": [
    "area_peril_dictionary['gridcell'] = area_peril_dictionary['AREA_PERIL_ID'].apply(\n",
    "    lambda ap: str(int((ap-1)/10)+1)+\"-\"+str(ap-(int((ap-1)/10))*10))\n",
    "\n",
    "footprints_with_hazard = footprints.merge(\n",
    "    intensity_bin_dictionary, how='inner', \n",
    "    left_on='intensity_bin_id', right_on='bin_index').merge(\n",
    "    area_peril_dictionary, how='inner', \n",
    "    left_on='areaperil_id', right_on='AREA_PERIL_ID')\n",
    "\n",
    "footprints_with_hazard = footprints_with_hazard[footprints_with_hazard['PERIL_ID']=='WTC']\n",
    "footprints_with_hazard = footprints_with_hazard[footprints_with_hazard['COVERAGE_TYPE']==1]\n",
    "\n",
    "fig = plt.figure(figsize=(20,10))\n",
    "\n",
    "grid = AxesGrid(fig, 111,\n",
    "                nrows_ncols=(1, 5),\n",
    "                axes_pad=0.05,\n",
    "                share_all=True,\n",
    "                label_mode=\"L\",\n",
    "                cbar_location=\"right\",\n",
    "                cbar_mode=\"single\",\n",
    "                )\n",
    "\n",
    "vmin = min(footprints_with_hazard.interpolation)\n",
    "vmax = max(footprints_with_hazard.interpolation)\n",
    "for idx, ax in enumerate(grid):\n",
    "    a = np.zeros([10, 10])\n",
    "    for __, row in footprints_with_hazard[footprints_with_hazard.event_id == idx+1].iterrows():\n",
    "        i, j = row.gridcell.split('-')\n",
    "        a[10-int(i), int(j)-1] = row.interpolation\n",
    "    im = ax.imshow(a, cmap=plt.cm.get_cmap('Blues'), vmin=vmin, vmax=vmax,\n",
    "                   extent=(\n",
    "                       min(area_peril_dictionary.lon), max(area_peril_dictionary.lon), \n",
    "                       min(area_peril_dictionary.lat), max(area_peril_dictionary.lat)))\n",
    "    ax.set_xlabel(\"longitude\")\n",
    "    ax.set_ylabel(\"latitude\")\n",
    "    at = AnchoredText(\n",
    "        \"Event ID = {}\".format(idx + 1),\n",
    "        prop=dict(size=8),\n",
    "        frameon=True,\n",
    "        loc=2,\n",
    "    )\n",
    "    at.patch.set_boxstyle(\"round,pad=0.,rounding_size=0.2\")\n",
    "    ax.add_artist(at)\n",
    "\n",
    "grid[0].cax.colorbar(im)\n",
    "cax = grid.cbar_axes[0]\n",
    "axis = cax.axis[cax.orientation]\n",
    "axis.label.set_text(\"Intensity - Peak gust (mph)\")\n",
    "\n",
    "plt.show()"
   ]
  },
  {
   "cell_type": "markdown",
   "metadata": {},
   "source": [
    "Lets have a look at the data contained in the Damage Bin dictionary file. \n",
    "Note that the dictionary is required for model execution."
   ]
  },
  {
   "cell_type": "code",
   "execution_count": null,
   "metadata": {},
   "outputs": [],
   "source": [
    "damage_bin_dictionary = pd.read_csv(\"../model_data/PiWind/damage_bin_dict.csv\")\n",
    "damage_bin_dictionary.head()"
   ]
  },
  {
   "cell_type": "markdown",
   "metadata": {},
   "source": [
    "Lets have a look at the data contained in the Vulnerability file. "
   ]
  },
  {
   "cell_type": "code",
   "execution_count": null,
   "metadata": {},
   "outputs": [],
   "source": [
    "vulnerabilities = pd.read_csv(\"../model_data/PiWind/vulnerability.csv\")\n",
    "vulnerabilities.head()"
   ]
  },
  {
   "cell_type": "markdown",
   "metadata": {},
   "source": [
    "The model has seperate vulnerability curves for Residential, Commerical and Industrial occupancies. \n",
    "Lets visualise these curves."
   ]
  },
  {
   "cell_type": "code",
   "execution_count": null,
   "metadata": {},
   "outputs": [],
   "source": [
    "vulnerabilities_with_hazard_and_damage = vulnerabilities.merge(\n",
    "    intensity_bin_dictionary, how='inner', \n",
    "    left_on='intensity_bin_id', right_on='bin_index').merge(\n",
    "    damage_bin_dictionary, how='inner',\n",
    "    suffixes=[\"_i\", \"_d\"], left_on='damage_bin_id', right_on='bin_index')\n",
    "\n",
    "fig = plt.figure(figsize=(10,20))\n",
    "\n",
    "grid = AxesGrid(fig, 111,\n",
    "                nrows_ncols=(1, 3),\n",
    "                axes_pad=0.05,\n",
    "                share_all=True,\n",
    "                label_mode=\"L\",\n",
    "                cbar_location=\"right\",\n",
    "                cbar_mode=\"single\",\n",
    "                )\n",
    "\n",
    "vmin = 0.0\n",
    "vmax = max(vulnerabilities_with_hazard_and_damage.probability)\n",
    "labels = [\"Residential\", \"Commercial\", \"Industrial\"]\n",
    "for idx, ax in enumerate(grid):\n",
    "    a = np.zeros((29, 12))\n",
    "    for index, row in vulnerabilities_with_hazard_and_damage[\n",
    "        vulnerabilities_with_hazard_and_damage.vulnerability_id == idx + 1].iterrows():\n",
    "        a[int(row.bin_index_i-1), 11-int(row.bin_index_d-1)] = row.probability\n",
    "    \n",
    "    im = ax.imshow(a, cmap=plt.cm.get_cmap('Blues'), vmin=vmin, vmax=vmax,\n",
    "                   extent=(\n",
    "                       min(intensity_bin_dictionary.interpolation), max(intensity_bin_dictionary.interpolation), \n",
    "                       min(damage_bin_dictionary.interpolation) * 100, max(damage_bin_dictionary.interpolation) * 100))\n",
    "\n",
    "    at = AnchoredText(labels[idx],\n",
    "                  prop=dict(size=8), frameon=True,\n",
    "                  loc=2,\n",
    "                  )\n",
    "    at.patch.set_boxstyle(\"round,pad=0.,rounding_size=0.2\")\n",
    "    ax.add_artist(at)\n",
    "    \n",
    "    ax.set_xlabel(\"Intensity - Peak gust (mph)\")\n",
    "    ax.set_ylabel(\"Damage\")\n",
    "\n",
    "grid[0].cax.colorbar(im)\n",
    "cax = grid.cbar_axes[0]\n",
    "axis = cax.axis[cax.orientation]\n",
    "axis.label.set_text(\"Probability of damage\")\n",
    "\n",
    "plt.show()"
   ]
  },
  {
   "cell_type": "markdown",
   "metadata": {},
   "source": [
    "To run the model we need some test exposure data. Lets have a look at an example Location and Account file. "
   ]
  },
  {
   "cell_type": "code",
   "execution_count": null,
   "metadata": {},
   "outputs": [],
   "source": [
    "test_locations = pd.read_csv('../tests/inputs/SourceLocOED.csv')\n",
    "test_locations.head()"
   ]
  },
  {
   "cell_type": "code",
   "execution_count": null,
   "metadata": {},
   "outputs": [],
   "source": [
    "test_accounts = pd.read_csv('../tests/inputs/SourceAccOEDPiWind.csv')\n",
    "test_accounts.head()"
   ]
  },
  {
   "cell_type": "markdown",
   "metadata": {},
   "source": [
    "To run the model, we also need to define some analysis settings. Lets have a look at an example settings file."
   ]
  },
  {
   "cell_type": "code",
   "execution_count": null,
   "metadata": {},
   "outputs": [],
   "source": [
    "with open('../analysis_settings.json', 'r') as myfile:\n",
    "    analysis_settings=json.loads(myfile.read().replace('\\n', ''))\n",
    "print(json.dumps(analysis_settings, indent=True))"
   ]
  },
  {
   "cell_type": "markdown",
   "metadata": {},
   "source": [
    "We can now run the model using the Oasis MDK."
   ]
  },
  {
   "cell_type": "markdown",
   "metadata": {},
   "source": [
    "First, convert the csv file into the required binary format; and then validate them: "
   ]
  },
  {
   "cell_type": "code",
   "execution_count": null,
   "metadata": {},
   "outputs": [],
   "source": [
    "! evetobin < ../model_data/PiWind/events_p.csv > ../model_data/PiWind/events_p.bin"
   ]
  },
  {
   "cell_type": "code",
   "execution_count": null,
   "metadata": {},
   "outputs": [],
   "source": [
    "! footprinttobin -i 15 <../model_data/PiWind/footprint.csv"
   ]
  },
  {
   "cell_type": "code",
   "execution_count": null,
   "metadata": {},
   "outputs": [],
   "source": [
    "! validatefootprint < ../model_data/PiWind/footprint.csv"
   ]
  },
  {
   "cell_type": "code",
   "execution_count": null,
   "metadata": {},
   "outputs": [],
   "source": [
    "! cp footprint.bin ../model_data/PiWind/ \n",
    "! cp footprint.idx ../model_data/PiWind/"
   ]
  },
  {
   "cell_type": "code",
   "execution_count": null,
   "metadata": {},
   "outputs": [],
   "source": [
    "! vulnerabilitytobin -d 11 < ../model_data/PiWind/vulnerability.csv > ../model_data/PiWind/vulnerability.bin"
   ]
  },
  {
   "cell_type": "code",
   "execution_count": null,
   "metadata": {},
   "outputs": [],
   "source": [
    "! validatevulnerability < ../model_data/PiWind/vulnerability.csv"
   ]
  },
  {
   "cell_type": "code",
   "execution_count": null,
   "metadata": {},
   "outputs": [],
   "source": [
    "! occurrencetobin -P715 < ../model_data/PiWind/occurrence_lt.csv > ../model_data/PiWind/occurrence_lt.bin"
   ]
  },
  {
   "cell_type": "code",
   "execution_count": null,
   "metadata": {},
   "outputs": [],
   "source": [
    "! crossvalidation -d ../model_data/PiWind/damage_bin_dict.csv -f ../model_data/PiWind/footprint.csv -s ../model_data/PiWind/vulnerability.csv"
   ]
  },
  {
   "cell_type": "code",
   "execution_count": null,
   "metadata": {},
   "outputs": [],
   "source": [
    "! rm -rf /tmp/analysis_test\n",
    "! oasislmf model run -C ../oasislmf.json -r /tmp/analysis_test"
   ]
  },
  {
   "cell_type": "markdown",
   "metadata": {},
   "source": [
    "Lets visualize the output of our analysis."
   ]
  },
  {
   "cell_type": "code",
   "execution_count": null,
   "metadata": {},
   "outputs": [],
   "source": [
    "analysis_directory = \"/tmp/analysis_test\"\n",
    "gul_aep = pd.read_csv(os.path.join(analysis_directory, \"output\", \"gul_S1_leccalc_full_uncertainty_aep.csv\"))\n",
    "gul_aep = gul_aep[gul_aep.type == 1]\n",
    "gul_oep = pd.read_csv(os.path.join(analysis_directory, \"output\", \"gul_S1_leccalc_full_uncertainty_oep.csv\"))\n",
    "gul_oep = gul_oep[gul_oep.type == 1]\n",
    "eps = pd.merge(gul_oep, gul_aep, on=[\"summary_id\", \"return_period\"], suffixes=[\"_oep\", \"_aep\"])\n",
    "eps = eps.sort_values(by=\"return_period\", ascending=True)\n",
    "fig, ax = plt.subplots()\n",
    "eps.plot(ax=ax, kind='bar', x='return_period', y=[\"loss_oep\", \"loss_aep\"])\n",
    "ax.set_yticklabels(['{:,}'.format(int(x)) for x in ax.get_yticks().tolist()])\n",
    "ax.set_xticklabels(['{:,}'.format(int(x)) for x in eps.return_period])\n",
    "plt.legend(('OEP', 'AEP'))\n",
    "ax.set_xlabel(\"Return period (years)\")\n",
    "ax.set_ylabel(\"Loss\")"
   ]
  },
  {
   "cell_type": "code",
   "execution_count": null,
   "metadata": {},
   "outputs": [],
   "source": []
  }
 ],
 "metadata": {
  "kernelspec": {
   "display_name": "Python 3",
   "language": "python",
   "name": "python3"
  },
  "language_info": {
   "codemirror_mode": {
    "name": "ipython",
    "version": 3
   },
   "file_extension": ".py",
   "mimetype": "text/x-python",
   "name": "python",
   "nbconvert_exporter": "python",
   "pygments_lexer": "ipython3",
   "version": "3.8.5"
  }
 },
 "nbformat": 4,
 "nbformat_minor": 2
}
